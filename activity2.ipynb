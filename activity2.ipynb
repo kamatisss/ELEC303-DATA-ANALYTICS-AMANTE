{
 "cells": [
  {
   "cell_type": "markdown",
   "id": "fa8d4b3b-bb23-420a-bf27-afa896198660",
   "metadata": {},
   "source": [
    "<h1>Uk Road Accidents Data Analytics</h1>\n",
    "<hr>\n",
    "<p>by:</p><h2>Harry Amante</h2>"
   ]
  },
  {
   "cell_type": "code",
   "execution_count": 1,
   "id": "3b4d3951-58f6-48e6-85b1-e0517114a969",
   "metadata": {},
   "outputs": [],
   "source": [
    "import numpy as np \n",
    "import pandas as pd\n",
    "from scipy.stats import f_oneway\n",
    "import matplotlib.pyplot as plt \n",
    "import warnings\n",
    "warnings.filterwarnings('ignore')"
   ]
  },
  {
   "cell_type": "code",
   "execution_count": 2,
   "id": "c2b124b8-89f1-491b-8674-e98517aae1e6",
   "metadata": {},
   "outputs": [],
   "source": [
    "road_acci_df = pd.read_csv('datasets\\\\uk_road_accident.csv')"
   ]
  },
  {
   "cell_type": "code",
   "execution_count": 3,
   "id": "6ffaecaf-ac33-4ef0-b896-91a300275fec",
   "metadata": {},
   "outputs": [
    {
     "data": {
      "text/html": [
       "<div>\n",
       "<style scoped>\n",
       "    .dataframe tbody tr th:only-of-type {\n",
       "        vertical-align: middle;\n",
       "    }\n",
       "\n",
       "    .dataframe tbody tr th {\n",
       "        vertical-align: top;\n",
       "    }\n",
       "\n",
       "    .dataframe thead th {\n",
       "        text-align: right;\n",
       "    }\n",
       "</style>\n",
       "<table border=\"1\" class=\"dataframe\">\n",
       "  <thead>\n",
       "    <tr style=\"text-align: right;\">\n",
       "      <th></th>\n",
       "      <th>Index</th>\n",
       "      <th>Accident_Severity</th>\n",
       "      <th>Accident Date</th>\n",
       "      <th>Latitude</th>\n",
       "      <th>Light_Conditions</th>\n",
       "      <th>District Area</th>\n",
       "      <th>Longitude</th>\n",
       "      <th>Number_of_Casualties</th>\n",
       "      <th>Number_of_Vehicles</th>\n",
       "      <th>Road_Surface_Conditions</th>\n",
       "      <th>Road_Type</th>\n",
       "      <th>Urban_or_Rural_Area</th>\n",
       "      <th>Weather_Conditions</th>\n",
       "      <th>Vehicle_Type</th>\n",
       "    </tr>\n",
       "  </thead>\n",
       "  <tbody>\n",
       "    <tr>\n",
       "      <th>0</th>\n",
       "      <td>200701BS64157</td>\n",
       "      <td>Serious</td>\n",
       "      <td>5/6/2019</td>\n",
       "      <td>51.506187</td>\n",
       "      <td>Darkness - lights lit</td>\n",
       "      <td>Kensington and Chelsea</td>\n",
       "      <td>-0.209082</td>\n",
       "      <td>1</td>\n",
       "      <td>2</td>\n",
       "      <td>Dry</td>\n",
       "      <td>Single carriageway</td>\n",
       "      <td>Urban</td>\n",
       "      <td>Fine no high winds</td>\n",
       "      <td>Car</td>\n",
       "    </tr>\n",
       "    <tr>\n",
       "      <th>1</th>\n",
       "      <td>200701BS65737</td>\n",
       "      <td>Serious</td>\n",
       "      <td>2/7/2019</td>\n",
       "      <td>51.495029</td>\n",
       "      <td>Daylight</td>\n",
       "      <td>Kensington and Chelsea</td>\n",
       "      <td>-0.173647</td>\n",
       "      <td>1</td>\n",
       "      <td>2</td>\n",
       "      <td>Wet or damp</td>\n",
       "      <td>Single carriageway</td>\n",
       "      <td>Urban</td>\n",
       "      <td>Raining no high winds</td>\n",
       "      <td>Car</td>\n",
       "    </tr>\n",
       "    <tr>\n",
       "      <th>2</th>\n",
       "      <td>200701BS66127</td>\n",
       "      <td>Serious</td>\n",
       "      <td>26-08-2019</td>\n",
       "      <td>51.517715</td>\n",
       "      <td>Darkness - lighting unknown</td>\n",
       "      <td>Kensington and Chelsea</td>\n",
       "      <td>-0.210215</td>\n",
       "      <td>1</td>\n",
       "      <td>3</td>\n",
       "      <td>Dry</td>\n",
       "      <td>NaN</td>\n",
       "      <td>Urban</td>\n",
       "      <td>NaN</td>\n",
       "      <td>Taxi/Private hire car</td>\n",
       "    </tr>\n",
       "    <tr>\n",
       "      <th>3</th>\n",
       "      <td>200701BS66128</td>\n",
       "      <td>Serious</td>\n",
       "      <td>16-08-2019</td>\n",
       "      <td>51.495478</td>\n",
       "      <td>Daylight</td>\n",
       "      <td>Kensington and Chelsea</td>\n",
       "      <td>-0.202731</td>\n",
       "      <td>1</td>\n",
       "      <td>4</td>\n",
       "      <td>Dry</td>\n",
       "      <td>Single carriageway</td>\n",
       "      <td>Urban</td>\n",
       "      <td>Fine no high winds</td>\n",
       "      <td>Bus or coach (17 or more pass seats)</td>\n",
       "    </tr>\n",
       "    <tr>\n",
       "      <th>4</th>\n",
       "      <td>200701BS66837</td>\n",
       "      <td>Slight</td>\n",
       "      <td>3/9/2019</td>\n",
       "      <td>51.488576</td>\n",
       "      <td>Darkness - lights lit</td>\n",
       "      <td>Kensington and Chelsea</td>\n",
       "      <td>-0.192487</td>\n",
       "      <td>1</td>\n",
       "      <td>2</td>\n",
       "      <td>Dry</td>\n",
       "      <td>NaN</td>\n",
       "      <td>Urban</td>\n",
       "      <td>NaN</td>\n",
       "      <td>Other vehicle</td>\n",
       "    </tr>\n",
       "    <tr>\n",
       "      <th>...</th>\n",
       "      <td>...</td>\n",
       "      <td>...</td>\n",
       "      <td>...</td>\n",
       "      <td>...</td>\n",
       "      <td>...</td>\n",
       "      <td>...</td>\n",
       "      <td>...</td>\n",
       "      <td>...</td>\n",
       "      <td>...</td>\n",
       "      <td>...</td>\n",
       "      <td>...</td>\n",
       "      <td>...</td>\n",
       "      <td>...</td>\n",
       "      <td>...</td>\n",
       "    </tr>\n",
       "    <tr>\n",
       "      <th>660674</th>\n",
       "      <td>201091NM01760</td>\n",
       "      <td>Slight</td>\n",
       "      <td>18-02-2022</td>\n",
       "      <td>57.374005</td>\n",
       "      <td>Daylight</td>\n",
       "      <td>Highland</td>\n",
       "      <td>-3.467828</td>\n",
       "      <td>2</td>\n",
       "      <td>1</td>\n",
       "      <td>Dry</td>\n",
       "      <td>Single carriageway</td>\n",
       "      <td>Rural</td>\n",
       "      <td>Fine no high winds</td>\n",
       "      <td>Car</td>\n",
       "    </tr>\n",
       "    <tr>\n",
       "      <th>660675</th>\n",
       "      <td>201091NM01881</td>\n",
       "      <td>Slight</td>\n",
       "      <td>21-02-2022</td>\n",
       "      <td>57.232273</td>\n",
       "      <td>Darkness - no lighting</td>\n",
       "      <td>Highland</td>\n",
       "      <td>-3.809281</td>\n",
       "      <td>1</td>\n",
       "      <td>1</td>\n",
       "      <td>Frost or ice</td>\n",
       "      <td>Single carriageway</td>\n",
       "      <td>Rural</td>\n",
       "      <td>Fine no high winds</td>\n",
       "      <td>Car</td>\n",
       "    </tr>\n",
       "    <tr>\n",
       "      <th>660676</th>\n",
       "      <td>201091NM01935</td>\n",
       "      <td>Slight</td>\n",
       "      <td>23-02-2022</td>\n",
       "      <td>57.585044</td>\n",
       "      <td>Daylight</td>\n",
       "      <td>Highland</td>\n",
       "      <td>-3.862727</td>\n",
       "      <td>1</td>\n",
       "      <td>3</td>\n",
       "      <td>Frost or ice</td>\n",
       "      <td>Single carriageway</td>\n",
       "      <td>Rural</td>\n",
       "      <td>Fine no high winds</td>\n",
       "      <td>Car</td>\n",
       "    </tr>\n",
       "    <tr>\n",
       "      <th>660677</th>\n",
       "      <td>201091NM01964</td>\n",
       "      <td>Serious</td>\n",
       "      <td>23-02-2022</td>\n",
       "      <td>57.214898</td>\n",
       "      <td>Darkness - no lighting</td>\n",
       "      <td>Highland</td>\n",
       "      <td>-3.823997</td>\n",
       "      <td>1</td>\n",
       "      <td>2</td>\n",
       "      <td>Wet or damp</td>\n",
       "      <td>Single carriageway</td>\n",
       "      <td>Rural</td>\n",
       "      <td>Fine no high winds</td>\n",
       "      <td>Motorcycle over 500cc</td>\n",
       "    </tr>\n",
       "    <tr>\n",
       "      <th>660678</th>\n",
       "      <td>201091NM02142</td>\n",
       "      <td>Serious</td>\n",
       "      <td>28-02-2022</td>\n",
       "      <td>57.575210</td>\n",
       "      <td>Daylight</td>\n",
       "      <td>Highland</td>\n",
       "      <td>-3.895673</td>\n",
       "      <td>1</td>\n",
       "      <td>1</td>\n",
       "      <td>Wet or damp</td>\n",
       "      <td>Dual carriageway</td>\n",
       "      <td>Rural</td>\n",
       "      <td>Snowing no high winds</td>\n",
       "      <td>Car</td>\n",
       "    </tr>\n",
       "  </tbody>\n",
       "</table>\n",
       "<p>660679 rows × 14 columns</p>\n",
       "</div>"
      ],
      "text/plain": [
       "                Index Accident_Severity Accident Date   Latitude  \\\n",
       "0       200701BS64157           Serious      5/6/2019  51.506187   \n",
       "1       200701BS65737           Serious      2/7/2019  51.495029   \n",
       "2       200701BS66127           Serious    26-08-2019  51.517715   \n",
       "3       200701BS66128           Serious    16-08-2019  51.495478   \n",
       "4       200701BS66837            Slight      3/9/2019  51.488576   \n",
       "...               ...               ...           ...        ...   \n",
       "660674  201091NM01760            Slight    18-02-2022  57.374005   \n",
       "660675  201091NM01881            Slight    21-02-2022  57.232273   \n",
       "660676  201091NM01935            Slight    23-02-2022  57.585044   \n",
       "660677  201091NM01964           Serious    23-02-2022  57.214898   \n",
       "660678  201091NM02142           Serious    28-02-2022  57.575210   \n",
       "\n",
       "                   Light_Conditions           District Area  Longitude  \\\n",
       "0             Darkness - lights lit  Kensington and Chelsea  -0.209082   \n",
       "1                          Daylight  Kensington and Chelsea  -0.173647   \n",
       "2       Darkness - lighting unknown  Kensington and Chelsea  -0.210215   \n",
       "3                          Daylight  Kensington and Chelsea  -0.202731   \n",
       "4             Darkness - lights lit  Kensington and Chelsea  -0.192487   \n",
       "...                             ...                     ...        ...   \n",
       "660674                     Daylight                Highland  -3.467828   \n",
       "660675       Darkness - no lighting                Highland  -3.809281   \n",
       "660676                     Daylight                Highland  -3.862727   \n",
       "660677       Darkness - no lighting                Highland  -3.823997   \n",
       "660678                     Daylight                Highland  -3.895673   \n",
       "\n",
       "        Number_of_Casualties  Number_of_Vehicles Road_Surface_Conditions  \\\n",
       "0                          1                   2                     Dry   \n",
       "1                          1                   2             Wet or damp   \n",
       "2                          1                   3                     Dry   \n",
       "3                          1                   4                     Dry   \n",
       "4                          1                   2                     Dry   \n",
       "...                      ...                 ...                     ...   \n",
       "660674                     2                   1                     Dry   \n",
       "660675                     1                   1            Frost or ice   \n",
       "660676                     1                   3            Frost or ice   \n",
       "660677                     1                   2             Wet or damp   \n",
       "660678                     1                   1             Wet or damp   \n",
       "\n",
       "                 Road_Type Urban_or_Rural_Area     Weather_Conditions  \\\n",
       "0       Single carriageway               Urban     Fine no high winds   \n",
       "1       Single carriageway               Urban  Raining no high winds   \n",
       "2                      NaN               Urban                    NaN   \n",
       "3       Single carriageway               Urban     Fine no high winds   \n",
       "4                      NaN               Urban                    NaN   \n",
       "...                    ...                 ...                    ...   \n",
       "660674  Single carriageway               Rural     Fine no high winds   \n",
       "660675  Single carriageway               Rural     Fine no high winds   \n",
       "660676  Single carriageway               Rural     Fine no high winds   \n",
       "660677  Single carriageway               Rural     Fine no high winds   \n",
       "660678    Dual carriageway               Rural  Snowing no high winds   \n",
       "\n",
       "                                Vehicle_Type  \n",
       "0                                        Car  \n",
       "1                                        Car  \n",
       "2                      Taxi/Private hire car  \n",
       "3       Bus or coach (17 or more pass seats)  \n",
       "4                              Other vehicle  \n",
       "...                                      ...  \n",
       "660674                                   Car  \n",
       "660675                                   Car  \n",
       "660676                                   Car  \n",
       "660677                 Motorcycle over 500cc  \n",
       "660678                                   Car  \n",
       "\n",
       "[660679 rows x 14 columns]"
      ]
     },
     "execution_count": 3,
     "metadata": {},
     "output_type": "execute_result"
    }
   ],
   "source": [
    "road_acci_df"
   ]
  },
  {
   "cell_type": "markdown",
   "id": "510f8223-d364-4c2c-bd3b-842fb2a21392",
   "metadata": {},
   "source": [
    "<h2>Descriptive Analysis</h2>"
   ]
  },
  {
   "cell_type": "code",
   "execution_count": 4,
   "id": "9ecbac6d-7a2a-42ab-97f7-0ba4754bdb86",
   "metadata": {},
   "outputs": [
    {
     "data": {
      "text/html": [
       "<div>\n",
       "<style scoped>\n",
       "    .dataframe tbody tr th:only-of-type {\n",
       "        vertical-align: middle;\n",
       "    }\n",
       "\n",
       "    .dataframe tbody tr th {\n",
       "        vertical-align: top;\n",
       "    }\n",
       "\n",
       "    .dataframe thead th {\n",
       "        text-align: right;\n",
       "    }\n",
       "</style>\n",
       "<table border=\"1\" class=\"dataframe\">\n",
       "  <thead>\n",
       "    <tr style=\"text-align: right;\">\n",
       "      <th></th>\n",
       "      <th>Latitude</th>\n",
       "      <th>Longitude</th>\n",
       "      <th>Number_of_Casualties</th>\n",
       "      <th>Number_of_Vehicles</th>\n",
       "    </tr>\n",
       "  </thead>\n",
       "  <tbody>\n",
       "    <tr>\n",
       "      <th>count</th>\n",
       "      <td>660654.000000</td>\n",
       "      <td>660653.000000</td>\n",
       "      <td>660679.000000</td>\n",
       "      <td>660679.000000</td>\n",
       "    </tr>\n",
       "    <tr>\n",
       "      <th>mean</th>\n",
       "      <td>52.553866</td>\n",
       "      <td>-1.431210</td>\n",
       "      <td>1.357040</td>\n",
       "      <td>1.831255</td>\n",
       "    </tr>\n",
       "    <tr>\n",
       "      <th>std</th>\n",
       "      <td>1.406922</td>\n",
       "      <td>1.383330</td>\n",
       "      <td>0.824847</td>\n",
       "      <td>0.715269</td>\n",
       "    </tr>\n",
       "    <tr>\n",
       "      <th>min</th>\n",
       "      <td>49.914430</td>\n",
       "      <td>-7.516225</td>\n",
       "      <td>1.000000</td>\n",
       "      <td>1.000000</td>\n",
       "    </tr>\n",
       "    <tr>\n",
       "      <th>25%</th>\n",
       "      <td>51.490690</td>\n",
       "      <td>-2.332291</td>\n",
       "      <td>1.000000</td>\n",
       "      <td>1.000000</td>\n",
       "    </tr>\n",
       "    <tr>\n",
       "      <th>50%</th>\n",
       "      <td>52.315641</td>\n",
       "      <td>-1.411667</td>\n",
       "      <td>1.000000</td>\n",
       "      <td>2.000000</td>\n",
       "    </tr>\n",
       "    <tr>\n",
       "      <th>75%</th>\n",
       "      <td>53.453452</td>\n",
       "      <td>-0.232869</td>\n",
       "      <td>1.000000</td>\n",
       "      <td>2.000000</td>\n",
       "    </tr>\n",
       "    <tr>\n",
       "      <th>max</th>\n",
       "      <td>60.757544</td>\n",
       "      <td>1.762010</td>\n",
       "      <td>68.000000</td>\n",
       "      <td>32.000000</td>\n",
       "    </tr>\n",
       "  </tbody>\n",
       "</table>\n",
       "</div>"
      ],
      "text/plain": [
       "            Latitude      Longitude  Number_of_Casualties  Number_of_Vehicles\n",
       "count  660654.000000  660653.000000         660679.000000       660679.000000\n",
       "mean       52.553866      -1.431210              1.357040            1.831255\n",
       "std         1.406922       1.383330              0.824847            0.715269\n",
       "min        49.914430      -7.516225              1.000000            1.000000\n",
       "25%        51.490690      -2.332291              1.000000            1.000000\n",
       "50%        52.315641      -1.411667              1.000000            2.000000\n",
       "75%        53.453452      -0.232869              1.000000            2.000000\n",
       "max        60.757544       1.762010             68.000000           32.000000"
      ]
     },
     "execution_count": 4,
     "metadata": {},
     "output_type": "execute_result"
    }
   ],
   "source": [
    "road_acci_df.describe()"
   ]
  },
  {
   "cell_type": "markdown",
   "id": "360967a3-8dfe-49ec-9ff6-4e8ac4452ef6",
   "metadata": {},
   "source": [
    "<h2>Checking Null values</h2>"
   ]
  },
  {
   "cell_type": "code",
   "execution_count": 5,
   "id": "b1425f45-daf4-4ecb-9754-2ea678e3f1cc",
   "metadata": {},
   "outputs": [
    {
     "data": {
      "text/plain": [
       "Index                          0\n",
       "Accident_Severity              0\n",
       "Accident Date                  0\n",
       "Latitude                      25\n",
       "Light_Conditions               0\n",
       "District Area                  0\n",
       "Longitude                     26\n",
       "Number_of_Casualties           0\n",
       "Number_of_Vehicles             0\n",
       "Road_Surface_Conditions      726\n",
       "Road_Type                   4520\n",
       "Urban_or_Rural_Area           15\n",
       "Weather_Conditions         14128\n",
       "Vehicle_Type                   0\n",
       "dtype: int64"
      ]
     },
     "execution_count": 5,
     "metadata": {},
     "output_type": "execute_result"
    }
   ],
   "source": [
    "road_acci_df.isnull().sum()"
   ]
  },
  {
   "cell_type": "markdown",
   "id": "2a586a39-0d7e-475f-8568-fc3817b0b8de",
   "metadata": {},
   "source": [
    "<h2>Filling up Null Values</h2>"
   ]
  },
  {
   "cell_type": "code",
   "execution_count": 6,
   "id": "cbb86efd-a9a7-4d85-ad19-1316b1490cdd",
   "metadata": {},
   "outputs": [
    {
     "data": {
      "text/plain": [
       "np.float64(52.553865761110956)"
      ]
     },
     "execution_count": 6,
     "metadata": {},
     "output_type": "execute_result"
    }
   ],
   "source": [
    "road_acci_df['Latitude'].mean()"
   ]
  },
  {
   "cell_type": "code",
   "execution_count": 7,
   "id": "ccaa16e8-d6f6-4279-ade1-f9c56637a201",
   "metadata": {},
   "outputs": [],
   "source": [
    "road_acci_df['Latitude'] = road_acci_df['Latitude'].fillna(road_acci_df['Latitude'].mean())\n",
    "road_acci_df['Longitude'] = road_acci_df['Longitude'].fillna(road_acci_df['Longitude'].mean())\n",
    "road_acci_df['Road_Surface_Conditions'] = road_acci_df['Road_Surface_Conditions'].fillna(road_acci_df['Road_Surface_Conditions'].mode()[0])\n",
    "road_acci_df['Road_Type'] = road_acci_df['Road_Type'].fillna(road_acci_df['Road_Type'].mode()[0])\n",
    "road_acci_df['Urban_or_Rural_Area'] = road_acci_df['Urban_or_Rural_Area'].fillna(road_acci_df['Urban_or_Rural_Area'].mode()[0])\n",
    "road_acci_df['Weather_Conditions'] = road_acci_df['Weather_Conditions'].fillna(road_acci_df['Weather_Conditions'].mode()[0])"
   ]
  },
  {
   "cell_type": "code",
   "execution_count": 8,
   "id": "98fae781-1cf3-446e-84f4-08347e339927",
   "metadata": {},
   "outputs": [
    {
     "data": {
      "text/plain": [
       "Index                      0\n",
       "Accident_Severity          0\n",
       "Accident Date              0\n",
       "Latitude                   0\n",
       "Light_Conditions           0\n",
       "District Area              0\n",
       "Longitude                  0\n",
       "Number_of_Casualties       0\n",
       "Number_of_Vehicles         0\n",
       "Road_Surface_Conditions    0\n",
       "Road_Type                  0\n",
       "Urban_or_Rural_Area        0\n",
       "Weather_Conditions         0\n",
       "Vehicle_Type               0\n",
       "dtype: int64"
      ]
     },
     "execution_count": 8,
     "metadata": {},
     "output_type": "execute_result"
    }
   ],
   "source": [
    "road_acci_df.isnull().sum()"
   ]
  },
  {
   "cell_type": "markdown",
   "id": "e164ca38-aefa-470f-80dc-14f0bb074e4d",
   "metadata": {},
   "source": [
    "<h2>Changing Data Types</h2>"
   ]
  },
  {
   "cell_type": "code",
   "execution_count": 9,
   "id": "2fcacb3a-f2ea-4bde-8a76-958343f100a7",
   "metadata": {},
   "outputs": [
    {
     "name": "stdout",
     "output_type": "stream",
     "text": [
      "<class 'pandas.core.frame.DataFrame'>\n",
      "RangeIndex: 660679 entries, 0 to 660678\n",
      "Data columns (total 14 columns):\n",
      " #   Column                   Non-Null Count   Dtype  \n",
      "---  ------                   --------------   -----  \n",
      " 0   Index                    660679 non-null  object \n",
      " 1   Accident_Severity        660679 non-null  object \n",
      " 2   Accident Date            660679 non-null  object \n",
      " 3   Latitude                 660679 non-null  float64\n",
      " 4   Light_Conditions         660679 non-null  object \n",
      " 5   District Area            660679 non-null  object \n",
      " 6   Longitude                660679 non-null  float64\n",
      " 7   Number_of_Casualties     660679 non-null  int64  \n",
      " 8   Number_of_Vehicles       660679 non-null  int64  \n",
      " 9   Road_Surface_Conditions  660679 non-null  object \n",
      " 10  Road_Type                660679 non-null  object \n",
      " 11  Urban_or_Rural_Area      660679 non-null  object \n",
      " 12  Weather_Conditions       660679 non-null  object \n",
      " 13  Vehicle_Type             660679 non-null  object \n",
      "dtypes: float64(2), int64(2), object(10)\n",
      "memory usage: 70.6+ MB\n"
     ]
    }
   ],
   "source": [
    "road_acci_df.info()\n"
   ]
  },
  {
   "cell_type": "code",
   "execution_count": 10,
   "id": "26545919-7c3a-48a8-99ed-6b4ebc6905ac",
   "metadata": {},
   "outputs": [],
   "source": [
    "road_acci_df['Index'] = road_acci_df['Index'].astype('category')\n",
    "road_acci_df['Accident_Severity'] = road_acci_df['Accident_Severity'].astype('category')\n",
    "road_acci_df['Accident Date'] = road_acci_df['Accident Date'].astype('category')\n",
    "road_acci_df['Light_Conditions'] = road_acci_df['Light_Conditions'].astype('category')\n",
    "road_acci_df['District Area'] = road_acci_df['District Area'].astype('category')\n",
    "road_acci_df['Road_Surface_Conditions'] = road_acci_df['Road_Surface_Conditions'].astype('category')\n",
    "road_acci_df['Road_Type'] = road_acci_df['Road_Type'].astype('category')\n",
    "road_acci_df['Urban_or_Rural_Area'] = road_acci_df['Urban_or_Rural_Area'].astype('category')\n",
    "road_acci_df['Weather_Conditions'] = road_acci_df['Weather_Conditions'].astype('category')\n",
    "road_acci_df['Vehicle_Type'] = road_acci_df['Vehicle_Type'].astype('category')"
   ]
  },
  {
   "cell_type": "code",
   "execution_count": 11,
   "id": "c36a141c-0068-4c84-b017-c166ddb443ad",
   "metadata": {},
   "outputs": [
    {
     "name": "stdout",
     "output_type": "stream",
     "text": [
      "<class 'pandas.core.frame.DataFrame'>\n",
      "RangeIndex: 660679 entries, 0 to 660678\n",
      "Data columns (total 14 columns):\n",
      " #   Column                   Non-Null Count   Dtype   \n",
      "---  ------                   --------------   -----   \n",
      " 0   Index                    660679 non-null  category\n",
      " 1   Accident_Severity        660679 non-null  category\n",
      " 2   Accident Date            660679 non-null  category\n",
      " 3   Latitude                 660679 non-null  float64 \n",
      " 4   Light_Conditions         660679 non-null  category\n",
      " 5   District Area            660679 non-null  category\n",
      " 6   Longitude                660679 non-null  float64 \n",
      " 7   Number_of_Casualties     660679 non-null  int64   \n",
      " 8   Number_of_Vehicles       660679 non-null  int64   \n",
      " 9   Road_Surface_Conditions  660679 non-null  category\n",
      " 10  Road_Type                660679 non-null  category\n",
      " 11  Urban_or_Rural_Area      660679 non-null  category\n",
      " 12  Weather_Conditions       660679 non-null  category\n",
      " 13  Vehicle_Type             660679 non-null  category\n",
      "dtypes: category(10), float64(2), int64(2)\n",
      "memory usage: 49.0 MB\n"
     ]
    }
   ],
   "source": [
    "road_acci_df.info()"
   ]
  },
  {
   "cell_type": "markdown",
   "id": "71ea6556-e056-472c-b3a3-eb061060598c",
   "metadata": {},
   "source": [
    "<h2>Explanatory Data Analysis(EDA)</h2>"
   ]
  },
  {
   "cell_type": "markdown",
   "id": "d21d5823-38e8-4720-a63a-8c29166c12ba",
   "metadata": {},
   "source": [
    "<h2>1. What is the total accidents number rocorded in the UK road accidents datasets?</h2>"
   ]
  },
  {
   "cell_type": "code",
   "execution_count": 12,
   "id": "296420c1-eea6-4b8b-9f9b-7a8f42010e21",
   "metadata": {},
   "outputs": [
    {
     "name": "stdout",
     "output_type": "stream",
     "text": [
      "<class 'pandas.core.frame.DataFrame'>\n",
      "RangeIndex: 660679 entries, 0 to 660678\n",
      "Data columns (total 14 columns):\n",
      " #   Column                   Non-Null Count   Dtype   \n",
      "---  ------                   --------------   -----   \n",
      " 0   Index                    660679 non-null  category\n",
      " 1   Accident_Severity        660679 non-null  category\n",
      " 2   Accident Date            660679 non-null  category\n",
      " 3   Latitude                 660679 non-null  float64 \n",
      " 4   Light_Conditions         660679 non-null  category\n",
      " 5   District Area            660679 non-null  category\n",
      " 6   Longitude                660679 non-null  float64 \n",
      " 7   Number_of_Casualties     660679 non-null  int64   \n",
      " 8   Number_of_Vehicles       660679 non-null  int64   \n",
      " 9   Road_Surface_Conditions  660679 non-null  category\n",
      " 10  Road_Type                660679 non-null  category\n",
      " 11  Urban_or_Rural_Area      660679 non-null  category\n",
      " 12  Weather_Conditions       660679 non-null  category\n",
      " 13  Vehicle_Type             660679 non-null  category\n",
      "dtypes: category(10), float64(2), int64(2)\n",
      "memory usage: 49.0 MB\n"
     ]
    }
   ],
   "source": [
    "road_acci_df.info()"
   ]
  },
  {
   "cell_type": "markdown",
   "id": "2ca5f06e-5aee-4d19-819b-8e5ed10277f5",
   "metadata": {},
   "source": [
    "<h2>Inight#1</h2>\n",
    "<p>The total number of accidents recorded in the UK road accidents are 660679 .</p>"
   ]
  },
  {
   "cell_type": "markdown",
   "id": "2d884047-97dc-446a-b1b0-c900c6349fd9",
   "metadata": {},
   "source": [
    "<hr>\n",
    "<h2>2. What vehicles types has more accident recorded?</h2>"
   ]
  },
  {
   "cell_type": "code",
   "execution_count": 13,
   "id": "62763337-6623-4c41-ad42-a5c35b1269d2",
   "metadata": {},
   "outputs": [
    {
     "data": {
      "text/plain": [
       "'Car'"
      ]
     },
     "execution_count": 13,
     "metadata": {},
     "output_type": "execute_result"
    }
   ],
   "source": [
    "\n",
    "vehicle_acc = road_acci_df['Vehicle_Type'].mode()[0]\n",
    "vehicle_acc"
   ]
  },
  {
   "cell_type": "markdown",
   "id": "baad6ee1-ece1-4eae-b3fc-6c1223c00158",
   "metadata": {},
   "source": [
    "<h2>Insight#2</h2>\n",
    "<p>Base on the reults the vehicles that has the most recorded accident is \"CAR\"</p>"
   ]
  },
  {
   "cell_type": "markdown",
   "id": "19bf44a3-56e2-4944-8346-52c162e134f0",
   "metadata": {},
   "source": [
    "<h2>3. Which District area is the most prone on vehicle accident?</h2>"
   ]
  },
  {
   "cell_type": "code",
   "execution_count": 14,
   "id": "79127e64-6d12-4de5-9d78-7dfea0167f85",
   "metadata": {},
   "outputs": [
    {
     "data": {
      "text/plain": [
       "District Area\n",
       "Birmingham            13491\n",
       "Leeds                  8898\n",
       "Manchester             6720\n",
       "Bradford               6212\n",
       "Sheffield              5710\n",
       "                      ...  \n",
       "Berwick-upon-Tweed      153\n",
       "Teesdale                142\n",
       "Shetland Islands        133\n",
       "Orkney Islands          117\n",
       "Clackmannanshire         91\n",
       "Name: count, Length: 422, dtype: int64"
      ]
     },
     "execution_count": 14,
     "metadata": {},
     "output_type": "execute_result"
    }
   ],
   "source": [
    "road_acci_df['District Area'].value_counts()"
   ]
  },
  {
   "cell_type": "markdown",
   "id": "bf31ae9f-0ffa-412d-b29d-b2970eb74d2d",
   "metadata": {},
   "source": [
    "<h2>Insight#3</h2>\n",
    "<p>Base on the results the district area accident-prone is Birmingham with the record of 13491.</p>"
   ]
  },
  {
   "cell_type": "markdown",
   "id": "882c677e-0205-4ca9-81ea-5cad34c157f8",
   "metadata": {},
   "source": [
    "<h2>4. During what weather condition and road surface conditions do accidents usually happen?</h2>"
   ]
  },
  {
   "cell_type": "code",
   "execution_count": 82,
   "id": "92c13f55-3fe8-4f04-860e-0f29eb8f9d37",
   "metadata": {},
   "outputs": [
    {
     "data": {
      "text/html": [
       "<div>\n",
       "<style scoped>\n",
       "    .dataframe tbody tr th:only-of-type {\n",
       "        vertical-align: middle;\n",
       "    }\n",
       "\n",
       "    .dataframe tbody tr th {\n",
       "        vertical-align: top;\n",
       "    }\n",
       "\n",
       "    .dataframe thead th {\n",
       "        text-align: right;\n",
       "    }\n",
       "</style>\n",
       "<table border=\"1\" class=\"dataframe\">\n",
       "  <thead>\n",
       "    <tr style=\"text-align: right;\">\n",
       "      <th></th>\n",
       "      <th>Weather_Conditions</th>\n",
       "      <th>Road_Surface_Conditions</th>\n",
       "      <th>Accident_Count</th>\n",
       "    </tr>\n",
       "  </thead>\n",
       "  <tbody>\n",
       "    <tr>\n",
       "      <th>5</th>\n",
       "      <td>Fine no high winds</td>\n",
       "      <td>Dry</td>\n",
       "      <td>439733</td>\n",
       "    </tr>\n",
       "    <tr>\n",
       "      <th>9</th>\n",
       "      <td>Fine no high winds</td>\n",
       "      <td>Wet or damp</td>\n",
       "      <td>83169</td>\n",
       "    </tr>\n",
       "    <tr>\n",
       "      <th>29</th>\n",
       "      <td>Raining no high winds</td>\n",
       "      <td>Wet or damp</td>\n",
       "      <td>78087</td>\n",
       "    </tr>\n",
       "    <tr>\n",
       "      <th>7</th>\n",
       "      <td>Fine no high winds</td>\n",
       "      <td>Frost or ice</td>\n",
       "      <td>10878</td>\n",
       "    </tr>\n",
       "    <tr>\n",
       "      <th>19</th>\n",
       "      <td>Other</td>\n",
       "      <td>Wet or damp</td>\n",
       "      <td>9366</td>\n",
       "    </tr>\n",
       "  </tbody>\n",
       "</table>\n",
       "</div>"
      ],
      "text/plain": [
       "       Weather_Conditions Road_Surface_Conditions  Accident_Count\n",
       "5      Fine no high winds                     Dry          439733\n",
       "9      Fine no high winds             Wet or damp           83169\n",
       "29  Raining no high winds             Wet or damp           78087\n",
       "7      Fine no high winds            Frost or ice           10878\n",
       "19                  Other             Wet or damp            9366"
      ]
     },
     "execution_count": 82,
     "metadata": {},
     "output_type": "execute_result"
    }
   ],
   "source": [
    "weather_surface_counts = (\n",
    "    road_acci_df.groupby([\"Weather_Conditions\", \"Road_Surface_Conditions\"])\n",
    "    .size()\n",
    "    .reset_index(name=\"Accident_Count\")\n",
    "    .sort_values(by=\"Accident_Count\", ascending=False)\n",
    ")\n",
    "weather_surface_counts.head(5)"
   ]
  },
  {
   "cell_type": "markdown",
   "id": "02c87d02-adc6-447f-a9f9-a33a97b3c893",
   "metadata": {},
   "source": [
    "<h2>Insight#4</h2>\n",
    "<p>Base on the results accidents usually happen when the weather conditions is \"FINE NO WINDS\" and the road surface conditions is \"DRY\".</p>"
   ]
  },
  {
   "cell_type": "markdown",
   "id": "2b5ebf0e-a4f0-481c-9d51-6d7cd83132b9",
   "metadata": {},
   "source": [
    "<h2>5. What is the average number of vehicles involved per accident?</h2>"
   ]
  },
  {
   "cell_type": "code",
   "execution_count": 16,
   "id": "429fa095-0adc-4807-9e68-d8d5defbac5c",
   "metadata": {},
   "outputs": [
    {
     "data": {
      "text/plain": [
       "np.float64(2.0)"
      ]
     },
     "execution_count": 16,
     "metadata": {},
     "output_type": "execute_result"
    }
   ],
   "source": [
    "round(road_acci_df['Number_of_Vehicles'].mean(),0)"
   ]
  },
  {
   "cell_type": "markdown",
   "id": "dcfe3b50-5533-4c37-9505-82e6eeebab66",
   "metadata": {},
   "source": [
    "<h2>Inight#5</h2>\n",
    "<p>Base on the results the average number involve in accident is 2.</p>"
   ]
  },
  {
   "cell_type": "markdown",
   "id": "ad466a7f-a560-4f3a-9548-159cbb264196",
   "metadata": {},
   "source": [
    "<h2>6. What is the most common light condition  during accidents?</h2>"
   ]
  },
  {
   "cell_type": "code",
   "execution_count": 17,
   "id": "950226c4-2591-479c-bb73-4fed5c1f1f19",
   "metadata": {},
   "outputs": [
    {
     "data": {
      "text/plain": [
       "Light_Conditions\n",
       "Daylight                       484880\n",
       "Darkness - lights lit          129335\n",
       "Darkness - no lighting          37437\n",
       "Darkness - lighting unknown      6484\n",
       "Darkness - lights unlit          2543\n",
       "Name: count, dtype: int64"
      ]
     },
     "execution_count": 17,
     "metadata": {},
     "output_type": "execute_result"
    }
   ],
   "source": [
    "cmmn_light_con = road_acci_df['Light_Conditions'].value_counts()\n",
    "cmmn_light_con"
   ]
  },
  {
   "cell_type": "markdown",
   "id": "967d4bf9-c499-4815-b8e3-6f3e6f2c8303",
   "metadata": {},
   "source": [
    "<h2>Insight#6</h2>\n",
    "<p>The most common light conditions during accidents is \"DAYLIGHT\" with the total number of 484880 accidents .</p>"
   ]
  },
  {
   "cell_type": "markdown",
   "id": "3f2e758c-b873-4b1d-bac9-2c8bf361c32e",
   "metadata": {},
   "source": [
    "<h2>7. Which road type has the highest frequency of accidents?</h2>"
   ]
  },
  {
   "cell_type": "code",
   "execution_count": 18,
   "id": "f5c95d2f-498e-4a9c-bde7-6f5754713b8e",
   "metadata": {},
   "outputs": [
    {
     "data": {
      "text/plain": [
       "Road_Type\n",
       "Single carriageway    496663\n",
       "Dual carriageway       99424\n",
       "Roundabout             43992\n",
       "One way street         13559\n",
       "Slip road               7041\n",
       "Name: count, dtype: int64"
      ]
     },
     "execution_count": 18,
     "metadata": {},
     "output_type": "execute_result"
    }
   ],
   "source": [
    "road_type_acci = road_acci_df['Road_Type'].value_counts()\n",
    "road_type_acci"
   ]
  },
  {
   "cell_type": "markdown",
   "id": "db0faefc-1ca2-4319-9805-554c8489c30a",
   "metadata": {},
   "source": [
    "<h2>Insight#7</h2>\n",
    "<p>The road type that has the highest frequency of accidents is \"SINGLE CARRIAGEWAY\" with the total number of 496663 accidents.</p>"
   ]
  },
  {
   "cell_type": "markdown",
   "id": "79823704-ee3d-4d0c-bc1b-2227016f5a40",
   "metadata": {},
   "source": [
    "<h2>8. What is the distribution of accident severity (slight, serious, fatal)?</h2>"
   ]
  },
  {
   "cell_type": "code",
   "execution_count": 19,
   "id": "7261841d-9359-42d9-8305-11bd4febecf2",
   "metadata": {},
   "outputs": [
    {
     "data": {
      "text/plain": [
       "Accident_Severity\n",
       "Slight     563801\n",
       "Serious     88217\n",
       "Fatal        8661\n",
       "Name: count, dtype: int64"
      ]
     },
     "execution_count": 19,
     "metadata": {},
     "output_type": "execute_result"
    }
   ],
   "source": [
    "acci_severi = road_acci_df['Accident_Severity'].value_counts()\n",
    "acci_severi"
   ]
  },
  {
   "cell_type": "markdown",
   "id": "e83e9196-3fcf-4323-87de-13b4ef6f60ea",
   "metadata": {},
   "source": [
    "<h2>Insight#8</h2>\n",
    "<p>The detribution of accidents per accident severity are \"SLIGHT: 563801\", \"SERIOUS: 88217\", \"FATALL: 8661\"</p>"
   ]
  },
  {
   "cell_type": "markdown",
   "id": "57df10b3-08d1-4285-9296-380ca82e1734",
   "metadata": {},
   "source": [
    "<H2>9. Where is the top 3 Districk area with a highest number of casualties recorded?</H2>"
   ]
  },
  {
   "cell_type": "code",
   "execution_count": 20,
   "id": "85eddfa5-9155-47cd-a868-32123e0e931d",
   "metadata": {},
   "outputs": [
    {
     "data": {
      "text/plain": [
       "District Area\n",
       "Birmingham            13491\n",
       "Leeds                  8898\n",
       "Manchester             6720\n",
       "Bradford               6212\n",
       "Sheffield              5710\n",
       "                      ...  \n",
       "Berwick-upon-Tweed      153\n",
       "Teesdale                142\n",
       "Shetland Islands        133\n",
       "Orkney Islands          117\n",
       "Clackmannanshire         91\n",
       "Name: Number_of_Casualties, Length: 422, dtype: int64"
      ]
     },
     "execution_count": 20,
     "metadata": {},
     "output_type": "execute_result"
    }
   ],
   "source": [
    "cslties_per_dis = road_acci_df.groupby(['District Area'])['Number_of_Casualties'].size().sort_values(ascending=False)\n",
    "\n",
    "cslties_per_dis"
   ]
  },
  {
   "cell_type": "markdown",
   "id": "bd46321a-4ff1-4cea-bc86-2cbd7c880871",
   "metadata": {},
   "source": [
    "<h2>Insight#9</h2>\n",
    "<p>The three district area with a high number of casulties are \"Birmingham: 13491\", \"Birmingham: 8898\", \"Manchester: 6720\". </p>"
   ]
  },
  {
   "cell_type": "markdown",
   "id": "d6482cf8-ba27-462a-8781-2dd513ebfc30",
   "metadata": {},
   "source": [
    "<h2>10. What type of vehicle has the highest fatal Accident Severity? </h2>"
   ]
  },
  {
   "cell_type": "code",
   "execution_count": 21,
   "id": "ff0e7834-82db-486c-af6b-6389ea97a700",
   "metadata": {},
   "outputs": [
    {
     "data": {
      "text/html": [
       "<div>\n",
       "<style scoped>\n",
       "    .dataframe tbody tr th:only-of-type {\n",
       "        vertical-align: middle;\n",
       "    }\n",
       "\n",
       "    .dataframe tbody tr th {\n",
       "        vertical-align: top;\n",
       "    }\n",
       "\n",
       "    .dataframe thead th {\n",
       "        text-align: right;\n",
       "    }\n",
       "</style>\n",
       "<table border=\"1\" class=\"dataframe\">\n",
       "  <thead>\n",
       "    <tr style=\"text-align: right;\">\n",
       "      <th>Accident_Severity</th>\n",
       "      <th>Fatal</th>\n",
       "      <th>Serious</th>\n",
       "      <th>Slight</th>\n",
       "    </tr>\n",
       "    <tr>\n",
       "      <th>Vehicle_Type</th>\n",
       "      <th></th>\n",
       "      <th></th>\n",
       "      <th></th>\n",
       "    </tr>\n",
       "  </thead>\n",
       "  <tbody>\n",
       "    <tr>\n",
       "      <th>Agricultural vehicle</th>\n",
       "      <td>21</td>\n",
       "      <td>282</td>\n",
       "      <td>1644</td>\n",
       "    </tr>\n",
       "    <tr>\n",
       "      <th>Bus or coach (17 or more pass seats)</th>\n",
       "      <td>325</td>\n",
       "      <td>3373</td>\n",
       "      <td>22180</td>\n",
       "    </tr>\n",
       "    <tr>\n",
       "      <th>Car</th>\n",
       "      <td>6577</td>\n",
       "      <td>66461</td>\n",
       "      <td>424954</td>\n",
       "    </tr>\n",
       "    <tr>\n",
       "      <th>Data missing or out of range</th>\n",
       "      <td>0</td>\n",
       "      <td>0</td>\n",
       "      <td>6</td>\n",
       "    </tr>\n",
       "    <tr>\n",
       "      <th>Goods 7.5 tonnes mgw and over</th>\n",
       "      <td>216</td>\n",
       "      <td>2321</td>\n",
       "      <td>14770</td>\n",
       "    </tr>\n",
       "    <tr>\n",
       "      <th>Goods over 3.5t. and under 7.5t</th>\n",
       "      <td>67</td>\n",
       "      <td>857</td>\n",
       "      <td>5172</td>\n",
       "    </tr>\n",
       "    <tr>\n",
       "      <th>Minibus (8 - 16 passenger seats)</th>\n",
       "      <td>29</td>\n",
       "      <td>276</td>\n",
       "      <td>1671</td>\n",
       "    </tr>\n",
       "    <tr>\n",
       "      <th>Motorcycle 125cc and under</th>\n",
       "      <td>189</td>\n",
       "      <td>2031</td>\n",
       "      <td>13049</td>\n",
       "    </tr>\n",
       "    <tr>\n",
       "      <th>Motorcycle 50cc and under</th>\n",
       "      <td>95</td>\n",
       "      <td>1014</td>\n",
       "      <td>6494</td>\n",
       "    </tr>\n",
       "    <tr>\n",
       "      <th>Motorcycle over 125cc and up to 500cc</th>\n",
       "      <td>105</td>\n",
       "      <td>1014</td>\n",
       "      <td>6537</td>\n",
       "    </tr>\n",
       "    <tr>\n",
       "      <th>Motorcycle over 500cc</th>\n",
       "      <td>339</td>\n",
       "      <td>3457</td>\n",
       "      <td>21861</td>\n",
       "    </tr>\n",
       "    <tr>\n",
       "      <th>Other vehicle</th>\n",
       "      <td>70</td>\n",
       "      <td>767</td>\n",
       "      <td>4800</td>\n",
       "    </tr>\n",
       "    <tr>\n",
       "      <th>Pedal cycle</th>\n",
       "      <td>6</td>\n",
       "      <td>39</td>\n",
       "      <td>152</td>\n",
       "    </tr>\n",
       "    <tr>\n",
       "      <th>Ridden horse</th>\n",
       "      <td>0</td>\n",
       "      <td>0</td>\n",
       "      <td>4</td>\n",
       "    </tr>\n",
       "    <tr>\n",
       "      <th>Taxi/Private hire car</th>\n",
       "      <td>155</td>\n",
       "      <td>1771</td>\n",
       "      <td>11368</td>\n",
       "    </tr>\n",
       "    <tr>\n",
       "      <th>Van / Goods 3.5 tonnes mgw or under</th>\n",
       "      <td>467</td>\n",
       "      <td>4554</td>\n",
       "      <td>29139</td>\n",
       "    </tr>\n",
       "  </tbody>\n",
       "</table>\n",
       "</div>"
      ],
      "text/plain": [
       "Accident_Severity                      Fatal  Serious  Slight\n",
       "Vehicle_Type                                                 \n",
       "Agricultural vehicle                      21      282    1644\n",
       "Bus or coach (17 or more pass seats)     325     3373   22180\n",
       "Car                                     6577    66461  424954\n",
       "Data missing or out of range               0        0       6\n",
       "Goods 7.5 tonnes mgw and over            216     2321   14770\n",
       "Goods over 3.5t. and under 7.5t           67      857    5172\n",
       "Minibus (8 - 16 passenger seats)          29      276    1671\n",
       "Motorcycle 125cc and under               189     2031   13049\n",
       "Motorcycle 50cc and under                 95     1014    6494\n",
       "Motorcycle over 125cc and up to 500cc    105     1014    6537\n",
       "Motorcycle over 500cc                    339     3457   21861\n",
       "Other vehicle                             70      767    4800\n",
       "Pedal cycle                                6       39     152\n",
       "Ridden horse                               0        0       4\n",
       "Taxi/Private hire car                    155     1771   11368\n",
       "Van / Goods 3.5 tonnes mgw or under      467     4554   29139"
      ]
     },
     "execution_count": 21,
     "metadata": {},
     "output_type": "execute_result"
    }
   ],
   "source": [
    "acci_sever = road_acci_df.groupby(['Vehicle_Type','Accident_Severity']).size().unstack()\n",
    "acci_sever"
   ]
  },
  {
   "cell_type": "markdown",
   "id": "ff6d2952-f4ee-4f62-bd33-655a6b1f5522",
   "metadata": {},
   "source": [
    "<h2>Insight#10</h2>\n",
    "<p>It seems out of recorded accidents <b>CAR</b> has more FATAL case accident severity with a total of 6577.</p>"
   ]
  },
  {
   "cell_type": "markdown",
   "id": "76814c28-68c7-4620-a336-29dc720c6a4e",
   "metadata": {},
   "source": [
    "<h2>11. What is the average number of casualties recorded per vehicle types\n",
    "    accidents.</h2>"
   ]
  },
  {
   "cell_type": "code",
   "execution_count": 89,
   "id": "4555d378-44a8-4be1-b915-b4222681b0b8",
   "metadata": {},
   "outputs": [
    {
     "data": {
      "image/png": "[encoded data removed]",
      "text/plain": [
       "<Figure size 1200x600 with 1 Axes>"
      ]
     },
     "metadata": {},
     "output_type": "display_data"
    }
   ],
   "source": [
    "# avrg_car_caslt = road_acci_df[road_acci_df['Vehicle_Type'] == 'Car']['Number_of_Casualties'].mean()\n",
    "# avrg_car_caslt\n",
    "\n",
    "avrg_caslt_by_vehicle = road_acci_df.groupby(\"Vehicle_Type\")[\"Number_of_Casualties\"].mean()\n",
    "\n",
    "avrg_caslt_by_vehicle.plot(kind=\"bar\", color=\"lightgreen\", edgecolor=\"black\",figsize=(12,6))\n",
    "\n",
    "plt.ylabel(\"Average Casualties per Accident\")\n",
    "plt.title(\"Average Casualties by Vehicle Type\")\n",
    "plt.xticks(rotation=45, ha=\"right\")\n",
    "plt.show()"
   ]
  },
  {
   "cell_type": "markdown",
   "id": "a4ca9a33-21e2-48f3-94f7-ca3b060b3801",
   "metadata": {},
   "source": [
    "<h2>Insight#11</h2>\n",
    "<p>The average number of casualties recorded in car accidents is <b>1<b>.</p>"
   ]
  },
  {
   "cell_type": "markdown",
   "id": "56e48a9e-3f21-417f-b4e7-8eb25dc25cd5",
   "metadata": {},
   "source": [
    "<h2>12. In what road surface conditions do car accidents usually happen?</h2>"
   ]
  },
  {
   "cell_type": "code",
   "execution_count": 79,
   "id": "30ab199e-e930-4ef8-929b-d8fb51ec214b",
   "metadata": {},
   "outputs": [
    {
     "data": {
      "image/png": "[encoded data removed]",
      "text/plain": [
       "<Figure size 640x480 with 1 Axes>"
      ]
     },
     "metadata": {},
     "output_type": "display_data"
    }
   ],
   "source": [
    "road_surfa =  road_acci_df.groupby(road_acci_df[road_acci_df['Vehicle_Type'] == 'Car']['Road_Surface_Conditions']).size()\n",
    "\n",
    "road_surfa.plot(kind='bar', color='skyblue', edgecolor='black')\n",
    "\n",
    "plt.xlabel(\"Road Surface Condition\")\n",
    "plt.ylabel(\"Number of Car Accidents\")\n",
    "plt.title(\"Car Accidents by Road Surface Condition\")\n",
    "plt.xticks(rotation=45)\n",
    "plt.show()"
   ]
  },
  {
   "cell_type": "markdown",
   "id": "96901bfe-e50f-4aa9-a246-3974ca06cab4",
   "metadata": {},
   "source": [
    "<h2>Insight#12</h2>\n",
    "<p>According to the result 68% of car accidents usually happen on \"DRY\" road surface conditions.</p>"
   ]
  },
  {
   "cell_type": "markdown",
   "id": "9db3aa28-7f61-4b02-9454-894d89395f32",
   "metadata": {},
   "source": [
    "<h2>13. In which area usually do accidents happen?</h2>"
   ]
  },
  {
   "cell_type": "code",
   "execution_count": 77,
   "id": "9538c70e-928f-42f1-bd5c-9bbd7137db7e",
   "metadata": {},
   "outputs": [
    {
     "data": {
      "image/png": "[encoded data removed]",
      "text/plain": [
       "<Figure size 640x480 with 1 Axes>"
      ]
     },
     "metadata": {},
     "output_type": "display_data"
    }
   ],
   "source": [
    "acci_area = (\n",
    "    road_acci_df.groupby(\"Urban_or_Rural_Area\")[\"Number_of_Casualties\"]\n",
    "    .sum().drop(\"Unallocated\", errors=\"ignore\") \n",
    ")\n",
    "\n",
    "plt.pie(acci_area,\n",
    "        labels=acci_area.index,      \n",
    "        autopct='%1.1f%%',\n",
    "        startangle=90,\n",
    "        colors=['skyblue','green']) \n",
    "\n",
    "plt.title(\"Total Casualties: Urban vs Rural Areas\")\n",
    "plt.show()"
   ]
  },
  {
   "cell_type": "markdown",
   "id": "25ef9c9f-7e2a-40de-97e5-0dac9696a460",
   "metadata": {},
   "source": [
    "<h2>Insight#13</h2>\n",
    "<p>Base on the results 60.6% of accidents recorded usually happened in Urban Area.</p>"
   ]
  },
  {
   "cell_type": "markdown",
   "id": "be2864c2-a0b3-4c67-8b32-2723c9796e91",
   "metadata": {},
   "source": [
    "<h2>14.What types of vehicle has frequency accidents in Urban Area/ what severity and casualties in it?</h2>"
   ]
  },
  {
   "cell_type": "code",
   "execution_count": 25,
   "id": "b10e5fe2-0906-41f6-9198-45ed3c1bd195",
   "metadata": {},
   "outputs": [
    {
     "data": {
      "text/html": [
       "<div>\n",
       "<style scoped>\n",
       "    .dataframe tbody tr th:only-of-type {\n",
       "        vertical-align: middle;\n",
       "    }\n",
       "\n",
       "    .dataframe tbody tr th {\n",
       "        vertical-align: top;\n",
       "    }\n",
       "\n",
       "    .dataframe thead th {\n",
       "        text-align: right;\n",
       "    }\n",
       "</style>\n",
       "<table border=\"1\" class=\"dataframe\">\n",
       "  <thead>\n",
       "    <tr style=\"text-align: right;\">\n",
       "      <th></th>\n",
       "      <th>Accident_Severity</th>\n",
       "      <th>Fatal</th>\n",
       "      <th>Serious</th>\n",
       "      <th>Slight</th>\n",
       "    </tr>\n",
       "    <tr>\n",
       "      <th>Urban_or_Rural_Area</th>\n",
       "      <th>Vehicle_Type</th>\n",
       "      <th></th>\n",
       "      <th></th>\n",
       "      <th></th>\n",
       "    </tr>\n",
       "  </thead>\n",
       "  <tbody>\n",
       "    <tr>\n",
       "      <th rowspan=\"16\" valign=\"top\">Rural</th>\n",
       "      <th>Agricultural vehicle</th>\n",
       "      <td>14</td>\n",
       "      <td>121</td>\n",
       "      <td>540</td>\n",
       "    </tr>\n",
       "    <tr>\n",
       "      <th>Bus or coach (17 or more pass seats)</th>\n",
       "      <td>213</td>\n",
       "      <td>1372</td>\n",
       "      <td>7440</td>\n",
       "    </tr>\n",
       "    <tr>\n",
       "      <th>Car</th>\n",
       "      <td>4285</td>\n",
       "      <td>28494</td>\n",
       "      <td>149143</td>\n",
       "    </tr>\n",
       "    <tr>\n",
       "      <th>Data missing or out of range</th>\n",
       "      <td>0</td>\n",
       "      <td>0</td>\n",
       "      <td>0</td>\n",
       "    </tr>\n",
       "    <tr>\n",
       "      <th>Goods 7.5 tonnes mgw and over</th>\n",
       "      <td>139</td>\n",
       "      <td>949</td>\n",
       "      <td>5068</td>\n",
       "    </tr>\n",
       "    <tr>\n",
       "      <th>Goods over 3.5t. and under 7.5t</th>\n",
       "      <td>41</td>\n",
       "      <td>361</td>\n",
       "      <td>1830</td>\n",
       "    </tr>\n",
       "    <tr>\n",
       "      <th>Minibus (8 - 16 passenger seats)</th>\n",
       "      <td>17</td>\n",
       "      <td>116</td>\n",
       "      <td>585</td>\n",
       "    </tr>\n",
       "    <tr>\n",
       "      <th>Motorcycle 125cc and under</th>\n",
       "      <td>101</td>\n",
       "      <td>817</td>\n",
       "      <td>4105</td>\n",
       "    </tr>\n",
       "    <tr>\n",
       "      <th>Motorcycle 50cc and under</th>\n",
       "      <td>52</td>\n",
       "      <td>431</td>\n",
       "      <td>2227</td>\n",
       "    </tr>\n",
       "    <tr>\n",
       "      <th>Motorcycle over 125cc and up to 500cc</th>\n",
       "      <td>64</td>\n",
       "      <td>399</td>\n",
       "      <td>2211</td>\n",
       "    </tr>\n",
       "    <tr>\n",
       "      <th>Motorcycle over 500cc</th>\n",
       "      <td>222</td>\n",
       "      <td>1355</td>\n",
       "      <td>7380</td>\n",
       "    </tr>\n",
       "    <tr>\n",
       "      <th>Other vehicle</th>\n",
       "      <td>44</td>\n",
       "      <td>321</td>\n",
       "      <td>1629</td>\n",
       "    </tr>\n",
       "    <tr>\n",
       "      <th>Pedal cycle</th>\n",
       "      <td>4</td>\n",
       "      <td>13</td>\n",
       "      <td>53</td>\n",
       "    </tr>\n",
       "    <tr>\n",
       "      <th>Ridden horse</th>\n",
       "      <td>0</td>\n",
       "      <td>0</td>\n",
       "      <td>1</td>\n",
       "    </tr>\n",
       "    <tr>\n",
       "      <th>Taxi/Private hire car</th>\n",
       "      <td>99</td>\n",
       "      <td>717</td>\n",
       "      <td>3861</td>\n",
       "    </tr>\n",
       "    <tr>\n",
       "      <th>Van / Goods 3.5 tonnes mgw or under</th>\n",
       "      <td>306</td>\n",
       "      <td>1846</td>\n",
       "      <td>10004</td>\n",
       "    </tr>\n",
       "    <tr>\n",
       "      <th rowspan=\"16\" valign=\"top\">Unallocated</th>\n",
       "      <th>Agricultural vehicle</th>\n",
       "      <td>0</td>\n",
       "      <td>0</td>\n",
       "      <td>0</td>\n",
       "    </tr>\n",
       "    <tr>\n",
       "      <th>Bus or coach (17 or more pass seats)</th>\n",
       "      <td>0</td>\n",
       "      <td>0</td>\n",
       "      <td>2</td>\n",
       "    </tr>\n",
       "    <tr>\n",
       "      <th>Car</th>\n",
       "      <td>0</td>\n",
       "      <td>0</td>\n",
       "      <td>8</td>\n",
       "    </tr>\n",
       "    <tr>\n",
       "      <th>Data missing or out of range</th>\n",
       "      <td>0</td>\n",
       "      <td>0</td>\n",
       "      <td>0</td>\n",
       "    </tr>\n",
       "    <tr>\n",
       "      <th>Goods 7.5 tonnes mgw and over</th>\n",
       "      <td>0</td>\n",
       "      <td>0</td>\n",
       "      <td>0</td>\n",
       "    </tr>\n",
       "    <tr>\n",
       "      <th>Goods over 3.5t. and under 7.5t</th>\n",
       "      <td>0</td>\n",
       "      <td>0</td>\n",
       "      <td>0</td>\n",
       "    </tr>\n",
       "    <tr>\n",
       "      <th>Minibus (8 - 16 passenger seats)</th>\n",
       "      <td>0</td>\n",
       "      <td>0</td>\n",
       "      <td>0</td>\n",
       "    </tr>\n",
       "    <tr>\n",
       "      <th>Motorcycle 125cc and under</th>\n",
       "      <td>0</td>\n",
       "      <td>0</td>\n",
       "      <td>0</td>\n",
       "    </tr>\n",
       "    <tr>\n",
       "      <th>Motorcycle 50cc and under</th>\n",
       "      <td>0</td>\n",
       "      <td>0</td>\n",
       "      <td>0</td>\n",
       "    </tr>\n",
       "    <tr>\n",
       "      <th>Motorcycle over 125cc and up to 500cc</th>\n",
       "      <td>0</td>\n",
       "      <td>0</td>\n",
       "      <td>0</td>\n",
       "    </tr>\n",
       "    <tr>\n",
       "      <th>Motorcycle over 500cc</th>\n",
       "      <td>0</td>\n",
       "      <td>0</td>\n",
       "      <td>0</td>\n",
       "    </tr>\n",
       "    <tr>\n",
       "      <th>Other vehicle</th>\n",
       "      <td>0</td>\n",
       "      <td>0</td>\n",
       "      <td>0</td>\n",
       "    </tr>\n",
       "    <tr>\n",
       "      <th>Pedal cycle</th>\n",
       "      <td>0</td>\n",
       "      <td>0</td>\n",
       "      <td>0</td>\n",
       "    </tr>\n",
       "    <tr>\n",
       "      <th>Ridden horse</th>\n",
       "      <td>0</td>\n",
       "      <td>0</td>\n",
       "      <td>0</td>\n",
       "    </tr>\n",
       "    <tr>\n",
       "      <th>Taxi/Private hire car</th>\n",
       "      <td>0</td>\n",
       "      <td>0</td>\n",
       "      <td>0</td>\n",
       "    </tr>\n",
       "    <tr>\n",
       "      <th>Van / Goods 3.5 tonnes mgw or under</th>\n",
       "      <td>0</td>\n",
       "      <td>1</td>\n",
       "      <td>0</td>\n",
       "    </tr>\n",
       "    <tr>\n",
       "      <th rowspan=\"16\" valign=\"top\">Urban</th>\n",
       "      <th>Agricultural vehicle</th>\n",
       "      <td>7</td>\n",
       "      <td>161</td>\n",
       "      <td>1104</td>\n",
       "    </tr>\n",
       "    <tr>\n",
       "      <th>Bus or coach (17 or more pass seats)</th>\n",
       "      <td>112</td>\n",
       "      <td>2001</td>\n",
       "      <td>14738</td>\n",
       "    </tr>\n",
       "    <tr>\n",
       "      <th>Car</th>\n",
       "      <td>2292</td>\n",
       "      <td>37967</td>\n",
       "      <td>275803</td>\n",
       "    </tr>\n",
       "    <tr>\n",
       "      <th>Data missing or out of range</th>\n",
       "      <td>0</td>\n",
       "      <td>0</td>\n",
       "      <td>6</td>\n",
       "    </tr>\n",
       "    <tr>\n",
       "      <th>Goods 7.5 tonnes mgw and over</th>\n",
       "      <td>77</td>\n",
       "      <td>1372</td>\n",
       "      <td>9702</td>\n",
       "    </tr>\n",
       "    <tr>\n",
       "      <th>Goods over 3.5t. and under 7.5t</th>\n",
       "      <td>26</td>\n",
       "      <td>496</td>\n",
       "      <td>3342</td>\n",
       "    </tr>\n",
       "    <tr>\n",
       "      <th>Minibus (8 - 16 passenger seats)</th>\n",
       "      <td>12</td>\n",
       "      <td>160</td>\n",
       "      <td>1086</td>\n",
       "    </tr>\n",
       "    <tr>\n",
       "      <th>Motorcycle 125cc and under</th>\n",
       "      <td>88</td>\n",
       "      <td>1214</td>\n",
       "      <td>8944</td>\n",
       "    </tr>\n",
       "    <tr>\n",
       "      <th>Motorcycle 50cc and under</th>\n",
       "      <td>43</td>\n",
       "      <td>583</td>\n",
       "      <td>4267</td>\n",
       "    </tr>\n",
       "    <tr>\n",
       "      <th>Motorcycle over 125cc and up to 500cc</th>\n",
       "      <td>41</td>\n",
       "      <td>615</td>\n",
       "      <td>4326</td>\n",
       "    </tr>\n",
       "    <tr>\n",
       "      <th>Motorcycle over 500cc</th>\n",
       "      <td>117</td>\n",
       "      <td>2102</td>\n",
       "      <td>14481</td>\n",
       "    </tr>\n",
       "    <tr>\n",
       "      <th>Other vehicle</th>\n",
       "      <td>26</td>\n",
       "      <td>446</td>\n",
       "      <td>3171</td>\n",
       "    </tr>\n",
       "    <tr>\n",
       "      <th>Pedal cycle</th>\n",
       "      <td>2</td>\n",
       "      <td>26</td>\n",
       "      <td>99</td>\n",
       "    </tr>\n",
       "    <tr>\n",
       "      <th>Ridden horse</th>\n",
       "      <td>0</td>\n",
       "      <td>0</td>\n",
       "      <td>3</td>\n",
       "    </tr>\n",
       "    <tr>\n",
       "      <th>Taxi/Private hire car</th>\n",
       "      <td>56</td>\n",
       "      <td>1054</td>\n",
       "      <td>7507</td>\n",
       "    </tr>\n",
       "    <tr>\n",
       "      <th>Van / Goods 3.5 tonnes mgw or under</th>\n",
       "      <td>161</td>\n",
       "      <td>2707</td>\n",
       "      <td>19135</td>\n",
       "    </tr>\n",
       "  </tbody>\n",
       "</table>\n",
       "</div>"
      ],
      "text/plain": [
       "Accident_Severity                                          Fatal  Serious  \\\n",
       "Urban_or_Rural_Area Vehicle_Type                                            \n",
       "Rural               Agricultural vehicle                      14      121   \n",
       "                    Bus or coach (17 or more pass seats)     213     1372   \n",
       "                    Car                                     4285    28494   \n",
       "                    Data missing or out of range               0        0   \n",
       "                    Goods 7.5 tonnes mgw and over            139      949   \n",
       "                    Goods over 3.5t. and under 7.5t           41      361   \n",
       "                    Minibus (8 - 16 passenger seats)          17      116   \n",
       "                    Motorcycle 125cc and under               101      817   \n",
       "                    Motorcycle 50cc and under                 52      431   \n",
       "                    Motorcycle over 125cc and up to 500cc     64      399   \n",
       "                    Motorcycle over 500cc                    222     1355   \n",
       "                    Other vehicle                             44      321   \n",
       "                    Pedal cycle                                4       13   \n",
       "                    Ridden horse                               0        0   \n",
       "                    Taxi/Private hire car                     99      717   \n",
       "                    Van / Goods 3.5 tonnes mgw or under      306     1846   \n",
       "Unallocated         Agricultural vehicle                       0        0   \n",
       "                    Bus or coach (17 or more pass seats)       0        0   \n",
       "                    Car                                        0        0   \n",
       "                    Data missing or out of range               0        0   \n",
       "                    Goods 7.5 tonnes mgw and over              0        0   \n",
       "                    Goods over 3.5t. and under 7.5t            0        0   \n",
       "                    Minibus (8 - 16 passenger seats)           0        0   \n",
       "                    Motorcycle 125cc and under                 0        0   \n",
       "                    Motorcycle 50cc and under                  0        0   \n",
       "                    Motorcycle over 125cc and up to 500cc      0        0   \n",
       "                    Motorcycle over 500cc                      0        0   \n",
       "                    Other vehicle                              0        0   \n",
       "                    Pedal cycle                                0        0   \n",
       "                    Ridden horse                               0        0   \n",
       "                    Taxi/Private hire car                      0        0   \n",
       "                    Van / Goods 3.5 tonnes mgw or under        0        1   \n",
       "Urban               Agricultural vehicle                       7      161   \n",
       "                    Bus or coach (17 or more pass seats)     112     2001   \n",
       "                    Car                                     2292    37967   \n",
       "                    Data missing or out of range               0        0   \n",
       "                    Goods 7.5 tonnes mgw and over             77     1372   \n",
       "                    Goods over 3.5t. and under 7.5t           26      496   \n",
       "                    Minibus (8 - 16 passenger seats)          12      160   \n",
       "                    Motorcycle 125cc and under                88     1214   \n",
       "                    Motorcycle 50cc and under                 43      583   \n",
       "                    Motorcycle over 125cc and up to 500cc     41      615   \n",
       "                    Motorcycle over 500cc                    117     2102   \n",
       "                    Other vehicle                             26      446   \n",
       "                    Pedal cycle                                2       26   \n",
       "                    Ridden horse                               0        0   \n",
       "                    Taxi/Private hire car                     56     1054   \n",
       "                    Van / Goods 3.5 tonnes mgw or under      161     2707   \n",
       "\n",
       "Accident_Severity                                          Slight  \n",
       "Urban_or_Rural_Area Vehicle_Type                                   \n",
       "Rural               Agricultural vehicle                      540  \n",
       "                    Bus or coach (17 or more pass seats)     7440  \n",
       "                    Car                                    149143  \n",
       "                    Data missing or out of range                0  \n",
       "                    Goods 7.5 tonnes mgw and over            5068  \n",
       "                    Goods over 3.5t. and under 7.5t          1830  \n",
       "                    Minibus (8 - 16 passenger seats)          585  \n",
       "                    Motorcycle 125cc and under               4105  \n",
       "                    Motorcycle 50cc and under                2227  \n",
       "                    Motorcycle over 125cc and up to 500cc    2211  \n",
       "                    Motorcycle over 500cc                    7380  \n",
       "                    Other vehicle                            1629  \n",
       "                    Pedal cycle                                53  \n",
       "                    Ridden horse                                1  \n",
       "                    Taxi/Private hire car                    3861  \n",
       "                    Van / Goods 3.5 tonnes mgw or under     10004  \n",
       "Unallocated         Agricultural vehicle                        0  \n",
       "                    Bus or coach (17 or more pass seats)        2  \n",
       "                    Car                                         8  \n",
       "                    Data missing or out of range                0  \n",
       "                    Goods 7.5 tonnes mgw and over               0  \n",
       "                    Goods over 3.5t. and under 7.5t             0  \n",
       "                    Minibus (8 - 16 passenger seats)            0  \n",
       "                    Motorcycle 125cc and under                  0  \n",
       "                    Motorcycle 50cc and under                   0  \n",
       "                    Motorcycle over 125cc and up to 500cc       0  \n",
       "                    Motorcycle over 500cc                       0  \n",
       "                    Other vehicle                               0  \n",
       "                    Pedal cycle                                 0  \n",
       "                    Ridden horse                                0  \n",
       "                    Taxi/Private hire car                       0  \n",
       "                    Van / Goods 3.5 tonnes mgw or under         0  \n",
       "Urban               Agricultural vehicle                     1104  \n",
       "                    Bus or coach (17 or more pass seats)    14738  \n",
       "                    Car                                    275803  \n",
       "                    Data missing or out of range                6  \n",
       "                    Goods 7.5 tonnes mgw and over            9702  \n",
       "                    Goods over 3.5t. and under 7.5t          3342  \n",
       "                    Minibus (8 - 16 passenger seats)         1086  \n",
       "                    Motorcycle 125cc and under               8944  \n",
       "                    Motorcycle 50cc and under                4267  \n",
       "                    Motorcycle over 125cc and up to 500cc    4326  \n",
       "                    Motorcycle over 500cc                   14481  \n",
       "                    Other vehicle                            3171  \n",
       "                    Pedal cycle                                99  \n",
       "                    Ridden horse                                3  \n",
       "                    Taxi/Private hire car                    7507  \n",
       "                    Van / Goods 3.5 tonnes mgw or under     19135  "
      ]
     },
     "execution_count": 25,
     "metadata": {},
     "output_type": "execute_result"
    }
   ],
   "source": [
    "urban_acci = road_acci_df.groupby(['Urban_or_Rural_Area','Vehicle_Type','Accident_Severity'])['Number_of_Casualties'].size()\n",
    "urban_acci.unstack()"
   ]
  },
  {
   "cell_type": "markdown",
   "id": "6980ef9f-5d0e-45d9-a7c2-c0a2deb92564",
   "metadata": {},
   "source": [
    "<h2>Insight#14</h2>\n",
    "<p>It seems \"Car\" is also no.1 in road accidents recorded in urban area</p>"
   ]
  },
  {
   "cell_type": "markdown",
   "id": "90980932-c9bf-453d-9cf4-323b3507b027",
   "metadata": {},
   "source": [
    "<h2>Inights#15</h2>\n",
    "<p>It seems despite being a pedal cycle there is chance of accidents in urban area with a total number of 127 accidents.</p>"
   ]
  },
  {
   "cell_type": "markdown",
   "id": "f4ebc622-d4bd-4616-972c-2a377ae31b6e",
   "metadata": {},
   "source": [
    "<h2>16. Which district area has recorded a more fatal accidents?</h2>"
   ]
  },
  {
   "cell_type": "code",
   "execution_count": 26,
   "id": "45816200-7d7d-410b-9b45-a54d25514634",
   "metadata": {},
   "outputs": [
    {
     "data": {
      "text/html": [
       "<div>\n",
       "<style scoped>\n",
       "    .dataframe tbody tr th:only-of-type {\n",
       "        vertical-align: middle;\n",
       "    }\n",
       "\n",
       "    .dataframe tbody tr th {\n",
       "        vertical-align: top;\n",
       "    }\n",
       "\n",
       "    .dataframe thead th {\n",
       "        text-align: right;\n",
       "    }\n",
       "</style>\n",
       "<table border=\"1\" class=\"dataframe\">\n",
       "  <thead>\n",
       "    <tr style=\"text-align: right;\">\n",
       "      <th>Accident_Severity</th>\n",
       "      <th>Fatal</th>\n",
       "      <th>Serious</th>\n",
       "      <th>Slight</th>\n",
       "    </tr>\n",
       "    <tr>\n",
       "      <th>District Area</th>\n",
       "      <th></th>\n",
       "      <th></th>\n",
       "      <th></th>\n",
       "    </tr>\n",
       "  </thead>\n",
       "  <tbody>\n",
       "    <tr>\n",
       "      <th>Aberdeen City</th>\n",
       "      <td>12</td>\n",
       "      <td>239</td>\n",
       "      <td>1072</td>\n",
       "    </tr>\n",
       "    <tr>\n",
       "      <th>Aberdeenshire</th>\n",
       "      <td>66</td>\n",
       "      <td>463</td>\n",
       "      <td>1401</td>\n",
       "    </tr>\n",
       "    <tr>\n",
       "      <th>Adur</th>\n",
       "      <td>8</td>\n",
       "      <td>101</td>\n",
       "      <td>510</td>\n",
       "    </tr>\n",
       "    <tr>\n",
       "      <th>Allerdale</th>\n",
       "      <td>24</td>\n",
       "      <td>143</td>\n",
       "      <td>961</td>\n",
       "    </tr>\n",
       "    <tr>\n",
       "      <th>Alnwick</th>\n",
       "      <td>6</td>\n",
       "      <td>33</td>\n",
       "      <td>193</td>\n",
       "    </tr>\n",
       "    <tr>\n",
       "      <th>...</th>\n",
       "      <td>...</td>\n",
       "      <td>...</td>\n",
       "      <td>...</td>\n",
       "    </tr>\n",
       "    <tr>\n",
       "      <th>Wychavon</th>\n",
       "      <td>30</td>\n",
       "      <td>193</td>\n",
       "      <td>1138</td>\n",
       "    </tr>\n",
       "    <tr>\n",
       "      <th>Wycombe</th>\n",
       "      <td>20</td>\n",
       "      <td>216</td>\n",
       "      <td>1493</td>\n",
       "    </tr>\n",
       "    <tr>\n",
       "      <th>Wyre</th>\n",
       "      <td>15</td>\n",
       "      <td>186</td>\n",
       "      <td>1037</td>\n",
       "    </tr>\n",
       "    <tr>\n",
       "      <th>Wyre Forest</th>\n",
       "      <td>22</td>\n",
       "      <td>132</td>\n",
       "      <td>815</td>\n",
       "    </tr>\n",
       "    <tr>\n",
       "      <th>York</th>\n",
       "      <td>21</td>\n",
       "      <td>255</td>\n",
       "      <td>1621</td>\n",
       "    </tr>\n",
       "  </tbody>\n",
       "</table>\n",
       "<p>422 rows × 3 columns</p>\n",
       "</div>"
      ],
      "text/plain": [
       "Accident_Severity  Fatal  Serious  Slight\n",
       "District Area                            \n",
       "Aberdeen City         12      239    1072\n",
       "Aberdeenshire         66      463    1401\n",
       "Adur                   8      101     510\n",
       "Allerdale             24      143     961\n",
       "Alnwick                6       33     193\n",
       "...                  ...      ...     ...\n",
       "Wychavon              30      193    1138\n",
       "Wycombe               20      216    1493\n",
       "Wyre                  15      186    1037\n",
       "Wyre Forest           22      132     815\n",
       "York                  21      255    1621\n",
       "\n",
       "[422 rows x 3 columns]"
      ]
     },
     "execution_count": 26,
     "metadata": {},
     "output_type": "execute_result"
    }
   ],
   "source": [
    "dsct_fatal = road_acci_df.groupby(['District Area','Accident_Severity'])['Number_of_Casualties'].size()\n",
    "dsct_fatal.unstack()"
   ]
  },
  {
   "cell_type": "markdown",
   "id": "c36c5a64-acca-4ca8-9c06-f327cf18d8bb",
   "metadata": {},
   "source": [
    "<h2>Inight#16</h2>\n",
    "<p> It seem that <b>Aberdeenshire</b> has the most recorded fatal road accidents .</p>"
   ]
  },
  {
   "cell_type": "code",
   "execution_count": 27,
   "id": "3df4d7cb-0c08-4692-90d6-afb537dbf2ab",
   "metadata": {},
   "outputs": [
    {
     "data": {
      "text/plain": [
       "'Birmingham'"
      ]
     },
     "execution_count": 27,
     "metadata": {},
     "output_type": "execute_result"
    }
   ],
   "source": [
    "road_acci_df['District Area'].mode()[0]"
   ]
  },
  {
   "cell_type": "markdown",
   "id": "4157bdd4-d83e-4804-b60a-1a0f66a479e0",
   "metadata": {},
   "source": [
    "<h2>Insight#17</h2>\n",
    "<p>Base in the previous reults despite 'Birmingham' being have more accidents record it's accidents is not most fatal.</p>"
   ]
  },
  {
   "cell_type": "markdown",
   "id": "27aa7367-7fdf-4353-8ce2-9265c1638edc",
   "metadata": {},
   "source": [
    "<h2>18. What are the average coordinates for each severity?</h2>"
   ]
  },
  {
   "cell_type": "code",
   "execution_count": 28,
   "id": "5ccf90db-3f32-48bc-9212-ac23a25f3b56",
   "metadata": {},
   "outputs": [
    {
     "data": {
      "text/html": [
       "<div>\n",
       "<style scoped>\n",
       "    .dataframe tbody tr th:only-of-type {\n",
       "        vertical-align: middle;\n",
       "    }\n",
       "\n",
       "    .dataframe tbody tr th {\n",
       "        vertical-align: top;\n",
       "    }\n",
       "\n",
       "    .dataframe thead th {\n",
       "        text-align: right;\n",
       "    }\n",
       "</style>\n",
       "<table border=\"1\" class=\"dataframe\">\n",
       "  <thead>\n",
       "    <tr style=\"text-align: right;\">\n",
       "      <th></th>\n",
       "      <th>Latitude</th>\n",
       "      <th>Longitude</th>\n",
       "    </tr>\n",
       "    <tr>\n",
       "      <th>Accident_Severity</th>\n",
       "      <th></th>\n",
       "      <th></th>\n",
       "    </tr>\n",
       "  </thead>\n",
       "  <tbody>\n",
       "    <tr>\n",
       "      <th>Fatal</th>\n",
       "      <td>52.696000</td>\n",
       "      <td>-1.546123</td>\n",
       "    </tr>\n",
       "    <tr>\n",
       "      <th>Serious</th>\n",
       "      <td>52.637669</td>\n",
       "      <td>-1.426820</td>\n",
       "    </tr>\n",
       "    <tr>\n",
       "      <th>Slight</th>\n",
       "      <td>52.538570</td>\n",
       "      <td>-1.430132</td>\n",
       "    </tr>\n",
       "  </tbody>\n",
       "</table>\n",
       "</div>"
      ],
      "text/plain": [
       "                    Latitude  Longitude\n",
       "Accident_Severity                      \n",
       "Fatal              52.696000  -1.546123\n",
       "Serious            52.637669  -1.426820\n",
       "Slight             52.538570  -1.430132"
      ]
     },
     "execution_count": 28,
     "metadata": {},
     "output_type": "execute_result"
    }
   ],
   "source": [
    "road_acci_df.groupby('Accident_Severity')[['Latitude','Longitude']].mean()\n"
   ]
  },
  {
   "cell_type": "markdown",
   "id": "aa15fb42-ad8e-4c55-881f-ae8122e722c5",
   "metadata": {},
   "source": [
    "<h2>Insight#18</h2>\n",
    "<p>Base on the data fatal road accidents have a slightly higher average latitude and lower average longitude compared  to serious and slight accidents.\n",
    "</p>"
   ]
  },
  {
   "cell_type": "markdown",
   "id": "7c723e7c-24bb-4da1-82cc-7ae8b156f383",
   "metadata": {},
   "source": [
    "<ul>\n",
    "    <li>Correlation</li>\n",
    "    <li>>= 0.5 = true</li>\n",
    "</ul>\n",
    "<h2>19. Is there a correlation between the number of vehicles involved and Number of Casualties?</h2>"
   ]
  },
  {
   "cell_type": "code",
   "execution_count": 85,
   "id": "3a8da3f1-80d3-4003-9eb9-fa89634a94d1",
   "metadata": {},
   "outputs": [
    {
     "data": {
      "text/plain": [
       "np.float64(0.22888886126927557)"
      ]
     },
     "execution_count": 85,
     "metadata": {},
     "output_type": "execute_result"
    }
   ],
   "source": [
    "cor_acci = road_acci_df['Number_of_Vehicles'].corr(road_acci_df['Number_of_Casualties'])\n",
    "cor_acci"
   ]
  },
  {
   "cell_type": "markdown",
   "id": "3bc9f1ae-7404-40ff-8c6a-482e386fbe88",
   "metadata": {},
   "source": [
    "<h2>Insight#19</h2>\n",
    "<p>there a weak correlation between the number of vehicles involved and Number of Casualties</p>"
   ]
  },
  {
   "cell_type": "markdown",
   "id": "859b140f-5db9-47ad-9d1d-b7377ed7eb7f",
   "metadata": {},
   "source": [
    "<h2>20.  Is There a correlation between number of vehicles and Casualties Severity?</h2>"
   ]
  },
  {
   "cell_type": "code",
   "execution_count": 30,
   "id": "3dd54355-6095-448c-9f31-a9efb3a717a6",
   "metadata": {},
   "outputs": [
    {
     "data": {
      "text/plain": [
       "['Serious', 'Slight', 'Fatal']\n",
       "Categories (3, object): ['Fatal', 'Serious', 'Slight']"
      ]
     },
     "execution_count": 30,
     "metadata": {},
     "output_type": "execute_result"
    }
   ],
   "source": [
    "road_acci_df['Accident_Severity'].unique()"
   ]
  },
  {
   "cell_type": "code",
   "execution_count": 31,
   "id": "edfa0dbf-98d9-4aea-b487-def5a2c8d161",
   "metadata": {},
   "outputs": [
    {
     "data": {
      "text/plain": [
       "0         2\n",
       "1         2\n",
       "2         3\n",
       "3         4\n",
       "5         3\n",
       "         ..\n",
       "660629    2\n",
       "660645    1\n",
       "660672    2\n",
       "660677    2\n",
       "660678    1\n",
       "Name: Number_of_Vehicles, Length: 88217, dtype: int64"
      ]
     },
     "execution_count": 31,
     "metadata": {},
     "output_type": "execute_result"
    }
   ],
   "source": [
    "road_acci_df[road_acci_df['Accident_Severity'] == 'Serious']['Number_of_Vehicles']"
   ]
  },
  {
   "cell_type": "code",
   "execution_count": 32,
   "id": "e4bd0dd7-cfb7-45e6-ac30-fcec8c54eb1b",
   "metadata": {},
   "outputs": [
    {
     "data": {
      "text/plain": [
       "4         2\n",
       "8         2\n",
       "9         2\n",
       "13        2\n",
       "14        1\n",
       "         ..\n",
       "660671    1\n",
       "660673    2\n",
       "660674    1\n",
       "660675    1\n",
       "660676    3\n",
       "Name: Number_of_Vehicles, Length: 563801, dtype: int64"
      ]
     },
     "execution_count": 32,
     "metadata": {},
     "output_type": "execute_result"
    }
   ],
   "source": [
    "road_acci_df[road_acci_df['Accident_Severity'] == 'Slight']['Number_of_Vehicles']"
   ]
  },
  {
   "cell_type": "code",
   "execution_count": 33,
   "id": "b8986ff7-ffb4-4d27-a529-3708bf121107",
   "metadata": {},
   "outputs": [
    {
     "data": {
      "text/plain": [
       "7         2\n",
       "11        2\n",
       "20        1\n",
       "21        1\n",
       "717       2\n",
       "         ..\n",
       "660470    1\n",
       "660519    1\n",
       "660565    1\n",
       "660581    1\n",
       "660627    1\n",
       "Name: Number_of_Vehicles, Length: 8661, dtype: int64"
      ]
     },
     "execution_count": 33,
     "metadata": {},
     "output_type": "execute_result"
    }
   ],
   "source": [
    "road_acci_df[road_acci_df['Accident_Severity'] == 'Fatal']['Number_of_Vehicles']"
   ]
  },
  {
   "cell_type": "code",
   "execution_count": 34,
   "id": "92eeab32-940c-45ba-b253-c4940ec2564c",
   "metadata": {},
   "outputs": [
    {
     "data": {
      "text/plain": [
       "F_onewayResult(statistic=np.float64(2383.6601993258646), pvalue=np.float64(0.0))"
      ]
     },
     "execution_count": 34,
     "metadata": {},
     "output_type": "execute_result"
    }
   ],
   "source": [
    "f_oneway(road_acci_df[road_acci_df['Accident_Severity'] == 'Serious']['Number_of_Vehicles'],road_acci_df[road_acci_df['Accident_Severity'] == 'Slight']['Number_of_Vehicles'],road_acci_df[road_acci_df['Accident_Severity'] == 'Fatal']['Number_of_Vehicles'])"
   ]
  },
  {
   "cell_type": "markdown",
   "id": "5c69f765-bfa3-49ad-9dc6-8eb61f4e5550",
   "metadata": {},
   "source": [
    "<h2>Insight#20</h2>\n",
    "<p>I think there is none correlation between the two.</p>"
   ]
  },
  {
   "cell_type": "code",
   "execution_count": 35,
   "id": "ac96dbee-701b-41e7-a1e5-b70d39e38069",
   "metadata": {},
   "outputs": [],
   "source": [
    "road_acci_df['Accident Date'] = pd.to_datetime(road_acci_df['Accident Date'],dayfirst=True, errors='coerce')"
   ]
  },
  {
   "cell_type": "code",
   "execution_count": 36,
   "id": "0c568a65-5992-4ad3-94ea-b7db4f80a1a2",
   "metadata": {},
   "outputs": [
    {
     "data": {
      "text/plain": [
       "Index                            category\n",
       "Accident_Severity                category\n",
       "Accident Date              datetime64[ns]\n",
       "Latitude                          float64\n",
       "Light_Conditions                 category\n",
       "District Area                    category\n",
       "Longitude                         float64\n",
       "Number_of_Casualties                int64\n",
       "Number_of_Vehicles                  int64\n",
       "Road_Surface_Conditions          category\n",
       "Road_Type                        category\n",
       "Urban_or_Rural_Area              category\n",
       "Weather_Conditions               category\n",
       "Vehicle_Type                     category\n",
       "dtype: object"
      ]
     },
     "execution_count": 36,
     "metadata": {},
     "output_type": "execute_result"
    }
   ],
   "source": [
    "road_acci_df.dtypes"
   ]
  },
  {
   "cell_type": "code",
   "execution_count": 37,
   "id": "03bb536d-6a72-4cd6-bde4-2bb8db8c6f1b",
   "metadata": {},
   "outputs": [],
   "source": [
    "#Create Column for Month,Day, Year\n",
    "\n",
    "road_acci_df['Year'] = road_acci_df['Accident Date'].dt.year\n",
    "road_acci_df['Day'] = road_acci_df['Accident Date'].dt.day\n",
    "road_acci_df['Day_Name'] = road_acci_df['Accident Date'].dt.day_name()\n",
    "road_acci_df['Day_of_Week'] = road_acci_df['Accident Date'].dt.dayofweek\n",
    "road_acci_df['Month'] = road_acci_df['Accident Date'].dt.month\n"
   ]
  },
  {
   "cell_type": "code",
   "execution_count": 38,
   "id": "42943d55-f5a9-455b-8053-d7f173c2b8dd",
   "metadata": {},
   "outputs": [],
   "source": [
    "road_acci_df[\"Accident Date\"] =  road_acci_df[\"Accident Date\"].fillna(road_acci_df[\"Accident Date\"] .mode()[0])\n",
    "road_acci_df['Month'] =  road_acci_df['Month'].fillna(road_acci_df['Month'] .mode()[0])\n",
    "road_acci_df['Year'] =  road_acci_df['Year'].fillna(road_acci_df['Year'] .mode()[0])\n",
    "road_acci_df['Day'] =  road_acci_df['Day'].fillna(road_acci_df['Day'] .mode()[0])\n",
    "road_acci_df['Day_Name'] =  road_acci_df['Day'].fillna(road_acci_df['Day_Name'] .mode()[0])\n",
    "road_acci_df['Day_of_Week'] =  road_acci_df['Day_of_Week'].fillna(road_acci_df['Day_of_Week'] .mode()[0])\n",
    "road_acci_df['Month'] = road_acci_df['Month'].astype('category') "
   ]
  },
  {
   "cell_type": "markdown",
   "id": "83898459-105a-40c6-9cfa-ae1000ce4a41",
   "metadata": {},
   "source": [
    "<h2>21. Which month records the highest number of accidents?</h2>"
   ]
  },
  {
   "cell_type": "code",
   "execution_count": 72,
   "id": "6ef45130-8323-45c6-a4c5-367a150ef417",
   "metadata": {},
   "outputs": [
    {
     "data": {
      "image/png": "[encoded data removed]",
      "text/plain": [
       "<Figure size 640x480 with 1 Axes>"
      ]
     },
     "metadata": {},
     "output_type": "display_data"
    }
   ],
   "source": [
    "month_counts = road_acci_df[\"Month\"].value_counts()\n",
    "month_counts.plot(kind='bar',title='Monthly Accident Record')\n",
    "plt.xlabel('Month')\n",
    "plt.ylabel('Numebr of Casualties')\n",
    "plt.xticks(range(1,13),['Jan','Feb','Mar','Apr','May','Jun','Jul','Aug','Sep','Oct','Nov','Dec'],rotation=40)\n",
    "plt.show()"
   ]
  },
  {
   "cell_type": "markdown",
   "id": "7af71b55-0615-4e4d-902c-9bdc56adaac7",
   "metadata": {},
   "source": [
    "<h2>Insight#21</h2>\n",
    "<p>The month with a high records of number of accidents is (11)\"November\" with total numbers of 419912</p>"
   ]
  },
  {
   "cell_type": "markdown",
   "id": "6f33cadb-9960-41ed-8a29-0d514db12636",
   "metadata": {},
   "source": [
    "<h2>22. Which day of week record highest number of road acccidents</h2>"
   ]
  },
  {
   "cell_type": "code",
   "execution_count": 51,
   "id": "d34b2153-ed7f-4732-bcb5-a0ecbff71f3e",
   "metadata": {},
   "outputs": [],
   "source": [
    "new_df = road_acci_df[road_acci_df['Day_of_Week'] != 5]\n"
   ]
  },
  {
   "cell_type": "code",
   "execution_count": 52,
   "id": "4be40ee3-d9ec-489a-aaa0-1fe485ccb7e8",
   "metadata": {},
   "outputs": [
    {
     "data": {
      "image/png": "[encoded data removed]",
      "text/plain": [
       "<Figure size 640x480 with 1 Axes>"
      ]
     },
     "metadata": {},
     "output_type": "display_data"
    }
   ],
   "source": [
    "day_weeks = new_df['Day_of_Week'].value_counts()\n",
    "day_weeks.plot(marker='o')\n",
    "plt.show()"
   ]
  },
  {
   "cell_type": "markdown",
   "id": "1f4cd2e7-741e-4095-9a2a-ab5d952a8a09",
   "metadata": {},
   "source": [
    "<h2>Inight#22</h2>\n",
    "<p>Base on the data in some reasons every (5)'SATURDAY' the number of accidents increases.</p>"
   ]
  },
  {
   "cell_type": "markdown",
   "id": "ba9f475c-25af-4669-915a-8c3f3171e4c7",
   "metadata": {},
   "source": [
    "<h2>23. In which year do road accidents happened the most?</h2>"
   ]
  },
  {
   "cell_type": "code",
   "execution_count": 54,
   "id": "8552182f-87a6-44ff-9305-4a2d7b40a4f7",
   "metadata": {},
   "outputs": [
    {
     "data": {
      "image/png": "[encoded data removed]",
      "text/plain": [
       "<Figure size 640x480 with 1 Axes>"
      ]
     },
     "metadata": {},
     "output_type": "display_data"
    }
   ],
   "source": [
    "year_acci = road_acci_df['Year'].value_counts()\n",
    "year_acci.plot(marker='o')\n",
    "plt.show()\n"
   ]
  },
  {
   "cell_type": "markdown",
   "id": "7f50c709-7ab5-4473-94e8-577b54b7a351",
   "metadata": {},
   "source": [
    "<h2>Insight#23</h2>\n",
    "<p>Base on the data 71% of road accidents recorded in 2019.</p>"
   ]
  },
  {
   "cell_type": "markdown",
   "id": "88fd45b7-f94a-4b8f-a963-e4b25304e955",
   "metadata": {},
   "source": [
    "<h2>24. In which moth accident happen the most per detrict area?</h2>"
   ]
  },
  {
   "cell_type": "code",
   "execution_count": 65,
   "id": "cc42ee37-6d7d-47ee-830d-0ba4517d36ac",
   "metadata": {},
   "outputs": [
    {
     "data": {
      "text/html": [
       "<div>\n",
       "<style scoped>\n",
       "    .dataframe tbody tr th:only-of-type {\n",
       "        vertical-align: middle;\n",
       "    }\n",
       "\n",
       "    .dataframe tbody tr th {\n",
       "        vertical-align: top;\n",
       "    }\n",
       "\n",
       "    .dataframe thead th {\n",
       "        text-align: right;\n",
       "    }\n",
       "</style>\n",
       "<table border=\"1\" class=\"dataframe\">\n",
       "  <thead>\n",
       "    <tr style=\"text-align: right;\">\n",
       "      <th>Month</th>\n",
       "      <th>1.0</th>\n",
       "      <th>2.0</th>\n",
       "      <th>3.0</th>\n",
       "      <th>4.0</th>\n",
       "      <th>5.0</th>\n",
       "      <th>6.0</th>\n",
       "      <th>7.0</th>\n",
       "      <th>8.0</th>\n",
       "      <th>9.0</th>\n",
       "      <th>10.0</th>\n",
       "      <th>11.0</th>\n",
       "      <th>12.0</th>\n",
       "    </tr>\n",
       "    <tr>\n",
       "      <th>District Area</th>\n",
       "      <th></th>\n",
       "      <th></th>\n",
       "      <th></th>\n",
       "      <th></th>\n",
       "      <th></th>\n",
       "      <th></th>\n",
       "      <th></th>\n",
       "      <th></th>\n",
       "      <th></th>\n",
       "      <th></th>\n",
       "      <th></th>\n",
       "      <th></th>\n",
       "    </tr>\n",
       "  </thead>\n",
       "  <tbody>\n",
       "    <tr>\n",
       "      <th>Aberdeen City</th>\n",
       "      <td>27</td>\n",
       "      <td>56</td>\n",
       "      <td>50</td>\n",
       "      <td>43</td>\n",
       "      <td>53</td>\n",
       "      <td>45</td>\n",
       "      <td>41</td>\n",
       "      <td>43</td>\n",
       "      <td>36</td>\n",
       "      <td>47</td>\n",
       "      <td>826</td>\n",
       "      <td>56</td>\n",
       "    </tr>\n",
       "    <tr>\n",
       "      <th>Aberdeenshire</th>\n",
       "      <td>49</td>\n",
       "      <td>55</td>\n",
       "      <td>66</td>\n",
       "      <td>53</td>\n",
       "      <td>52</td>\n",
       "      <td>69</td>\n",
       "      <td>61</td>\n",
       "      <td>76</td>\n",
       "      <td>64</td>\n",
       "      <td>68</td>\n",
       "      <td>1238</td>\n",
       "      <td>79</td>\n",
       "    </tr>\n",
       "    <tr>\n",
       "      <th>Adur</th>\n",
       "      <td>19</td>\n",
       "      <td>20</td>\n",
       "      <td>27</td>\n",
       "      <td>27</td>\n",
       "      <td>26</td>\n",
       "      <td>17</td>\n",
       "      <td>26</td>\n",
       "      <td>23</td>\n",
       "      <td>18</td>\n",
       "      <td>23</td>\n",
       "      <td>379</td>\n",
       "      <td>14</td>\n",
       "    </tr>\n",
       "    <tr>\n",
       "      <th>Allerdale</th>\n",
       "      <td>26</td>\n",
       "      <td>41</td>\n",
       "      <td>33</td>\n",
       "      <td>29</td>\n",
       "      <td>40</td>\n",
       "      <td>38</td>\n",
       "      <td>34</td>\n",
       "      <td>33</td>\n",
       "      <td>40</td>\n",
       "      <td>51</td>\n",
       "      <td>721</td>\n",
       "      <td>42</td>\n",
       "    </tr>\n",
       "    <tr>\n",
       "      <th>Alnwick</th>\n",
       "      <td>7</td>\n",
       "      <td>15</td>\n",
       "      <td>6</td>\n",
       "      <td>7</td>\n",
       "      <td>6</td>\n",
       "      <td>7</td>\n",
       "      <td>9</td>\n",
       "      <td>12</td>\n",
       "      <td>7</td>\n",
       "      <td>12</td>\n",
       "      <td>135</td>\n",
       "      <td>9</td>\n",
       "    </tr>\n",
       "    <tr>\n",
       "      <th>...</th>\n",
       "      <td>...</td>\n",
       "      <td>...</td>\n",
       "      <td>...</td>\n",
       "      <td>...</td>\n",
       "      <td>...</td>\n",
       "      <td>...</td>\n",
       "      <td>...</td>\n",
       "      <td>...</td>\n",
       "      <td>...</td>\n",
       "      <td>...</td>\n",
       "      <td>...</td>\n",
       "      <td>...</td>\n",
       "    </tr>\n",
       "    <tr>\n",
       "      <th>Wychavon</th>\n",
       "      <td>40</td>\n",
       "      <td>48</td>\n",
       "      <td>45</td>\n",
       "      <td>56</td>\n",
       "      <td>54</td>\n",
       "      <td>40</td>\n",
       "      <td>48</td>\n",
       "      <td>44</td>\n",
       "      <td>40</td>\n",
       "      <td>48</td>\n",
       "      <td>851</td>\n",
       "      <td>47</td>\n",
       "    </tr>\n",
       "    <tr>\n",
       "      <th>Wycombe</th>\n",
       "      <td>46</td>\n",
       "      <td>56</td>\n",
       "      <td>61</td>\n",
       "      <td>46</td>\n",
       "      <td>53</td>\n",
       "      <td>51</td>\n",
       "      <td>67</td>\n",
       "      <td>51</td>\n",
       "      <td>62</td>\n",
       "      <td>71</td>\n",
       "      <td>1106</td>\n",
       "      <td>59</td>\n",
       "    </tr>\n",
       "    <tr>\n",
       "      <th>Wyre</th>\n",
       "      <td>36</td>\n",
       "      <td>42</td>\n",
       "      <td>47</td>\n",
       "      <td>46</td>\n",
       "      <td>37</td>\n",
       "      <td>35</td>\n",
       "      <td>36</td>\n",
       "      <td>45</td>\n",
       "      <td>32</td>\n",
       "      <td>38</td>\n",
       "      <td>793</td>\n",
       "      <td>51</td>\n",
       "    </tr>\n",
       "    <tr>\n",
       "      <th>Wyre Forest</th>\n",
       "      <td>27</td>\n",
       "      <td>32</td>\n",
       "      <td>26</td>\n",
       "      <td>40</td>\n",
       "      <td>32</td>\n",
       "      <td>32</td>\n",
       "      <td>25</td>\n",
       "      <td>35</td>\n",
       "      <td>34</td>\n",
       "      <td>39</td>\n",
       "      <td>619</td>\n",
       "      <td>28</td>\n",
       "    </tr>\n",
       "    <tr>\n",
       "      <th>York</th>\n",
       "      <td>60</td>\n",
       "      <td>54</td>\n",
       "      <td>55</td>\n",
       "      <td>66</td>\n",
       "      <td>64</td>\n",
       "      <td>60</td>\n",
       "      <td>53</td>\n",
       "      <td>61</td>\n",
       "      <td>50</td>\n",
       "      <td>71</td>\n",
       "      <td>1226</td>\n",
       "      <td>77</td>\n",
       "    </tr>\n",
       "  </tbody>\n",
       "</table>\n",
       "<p>422 rows × 12 columns</p>\n",
       "</div>"
      ],
      "text/plain": [
       "Month          1.0  2.0  3.0  4.0  5.0  6.0  7.0  8.0  9.0  10.0  11.0  12.0\n",
       "District Area                                                               \n",
       "Aberdeen City   27   56   50   43   53   45   41   43   36    47   826    56\n",
       "Aberdeenshire   49   55   66   53   52   69   61   76   64    68  1238    79\n",
       "Adur            19   20   27   27   26   17   26   23   18    23   379    14\n",
       "Allerdale       26   41   33   29   40   38   34   33   40    51   721    42\n",
       "Alnwick          7   15    6    7    6    7    9   12    7    12   135     9\n",
       "...            ...  ...  ...  ...  ...  ...  ...  ...  ...   ...   ...   ...\n",
       "Wychavon        40   48   45   56   54   40   48   44   40    48   851    47\n",
       "Wycombe         46   56   61   46   53   51   67   51   62    71  1106    59\n",
       "Wyre            36   42   47   46   37   35   36   45   32    38   793    51\n",
       "Wyre Forest     27   32   26   40   32   32   25   35   34    39   619    28\n",
       "York            60   54   55   66   64   60   53   61   50    71  1226    77\n",
       "\n",
       "[422 rows x 12 columns]"
      ]
     },
     "execution_count": 65,
     "metadata": {},
     "output_type": "execute_result"
    }
   ],
   "source": [
    "month_acci = road_acci_df.groupby(['District Area','Month'])['Number_of_Casualties'].size().unstack()\n",
    "month_acci.head(12)\n",
    "month_acci"
   ]
  },
  {
   "cell_type": "markdown",
   "id": "98835ad0-2f97-485a-ada1-071c73430215",
   "metadata": {},
   "source": [
    "<h2>Insight#24</h2>\n",
    "<p>Base on the data most of accident numbers vary significantly between district area .</p>"
   ]
  },
  {
   "cell_type": "markdown",
   "id": "491257f2-fcfc-4047-ba61-660faff87e42",
   "metadata": {},
   "source": [
    "<h2>Insight#25</h2>\n",
    "<p>Therefore some districts like Alnwick, consistently report a lower accident numbers accross all months.</p>"
   ]
  },
  {
   "cell_type": "code",
   "execution_count": null,
   "id": "ee09d687-012a-447c-b63c-1d8d2e7dd9ea",
   "metadata": {},
   "outputs": [],
   "source": []
  }
 ],
 "metadata": {
  "kernelspec": {
   "display_name": "Python 3 (ipykernel)",
   "language": "python",
   "name": "python3"
  },
  "language_info": {
   "codemirror_mode": {
    "name": "ipython",
    "version": 3
   },
   "file_extension": ".py",
   "mimetype": "text/x-python",
   "name": "python",
   "nbconvert_exporter": "python",
   "pygments_lexer": "ipython3",
   "version": "3.13.5"
  }
 },
 "nbformat": 4,
 "nbformat_minor": 5
}
